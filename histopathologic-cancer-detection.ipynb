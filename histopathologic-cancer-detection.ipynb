{
 "cells": [
  {
   "cell_type": "markdown",
   "metadata": {},
   "source": [
    "# TODO:\n",
    "* [x] replace next two rows with sorted image names\n",
    "* [x] quality control - check for missing images in both variables\n",
    "* [ ] balance train_df with sklearn\n",
    "* [ ] balance batches (n, n) {0, 1} with Pytorch Samplers\n",
    "* [x] crop train and test images to 32 x 32 (from center)\n",
    "* [x] multiply loss.item() by batch_size (because default reduction value in Loss function is mean)\n",
    "* [x] replace next two rows with sorted image names\n",
    "* [x] quality control - check for missing images in both variables \n",
    "* [x] make bigger batch size for validation"
   ]
  },
  {
   "cell_type": "markdown",
   "metadata": {},
   "source": [
    "# Hello there!\n",
    "This is my almost first try to create a notebook. The main reason for this is because I have never seen the guides, where is NN building was described"
   ]
  },
  {
   "cell_type": "markdown",
   "source": [
    "# Imports"
   ],
   "metadata": {
    "collapsed": false
   }
  },
  {
   "cell_type": "code",
   "execution_count": 1,
   "metadata": {
    "_cell_guid": "b1076dfc-b9ad-4769-8c92-a6c4dae69d19",
    "_uuid": "8f2839f25d086af736a60e9eeb907d3b93b6e0e5",
    "execution": {
     "iopub.execute_input": "2022-11-15T10:10:09.369065Z",
     "iopub.status.busy": "2022-11-15T10:10:09.368657Z",
     "iopub.status.idle": "2022-11-15T10:10:11.651541Z",
     "shell.execute_reply": "2022-11-15T10:10:11.650403Z",
     "shell.execute_reply.started": "2022-11-15T10:10:09.368982Z"
    }
   },
   "outputs": [],
   "source": [
    "import gc\n",
    "import os\n",
    "from collections import Counter\n",
    "\n",
    "import json\n",
    "\n",
    "import matplotlib.pyplot as plt\n",
    "import numpy as np\n",
    "import pandas as pd\n",
    "import torch\n",
    "import torch.nn as nn\n",
    "import torchvision.transforms as transforms\n",
    "from PIL import Image\n",
    "from torch.cuda.amp import autocast\n",
    "from torch.utils.data import Dataset, DataLoader\n",
    "from torch.utils.data import random_split\n",
    "from torch.optim import Adam\n",
    "from tqdm.notebook import tqdm\n"
   ]
  },
  {
   "cell_type": "markdown",
   "source": [
    "Don't forget to uncomment the `DATA_DIR` constant for Kaggle or use your path instead."
   ],
   "metadata": {
    "collapsed": false
   }
  },
  {
   "cell_type": "code",
   "execution_count": 2,
   "metadata": {
    "execution": {
     "iopub.execute_input": "2022-11-15T10:10:11.654658Z",
     "iopub.status.busy": "2022-11-15T10:10:11.653844Z",
     "iopub.status.idle": "2022-11-15T10:10:11.682216Z",
     "shell.execute_reply": "2022-11-15T10:10:11.678233Z",
     "shell.execute_reply.started": "2022-11-15T10:10:11.654587Z"
    },
    "jupyter": {
     "outputs_hidden": false
    }
   },
   "outputs": [],
   "source": [
    "#Constants region\n",
    "# DATA_DIR = \"../input/histopathologic-cancer-detection/\"\n",
    "DATA_DIR = \"./\"\n",
    "TRAIN_LABELS = 'train_labels.csv'\n",
    "\n",
    "CENTER_SIZE = 32\n",
    "BATCH_SIZE = 64\n",
    "VALIDATION_BATCH_SIZE = 512\n",
    "#End constant region"
   ]
  },
  {
   "cell_type": "markdown",
   "source": [
    "# Data Preparation"
   ],
   "metadata": {
    "collapsed": false
   }
  },
  {
   "cell_type": "markdown",
   "source": [
    "## Import dataset"
   ],
   "metadata": {
    "collapsed": false
   }
  },
  {
   "cell_type": "code",
   "execution_count": 3,
   "metadata": {
    "execution": {
     "iopub.execute_input": "2022-11-15T10:10:11.688687Z",
     "iopub.status.busy": "2022-11-15T10:10:11.687923Z",
     "iopub.status.idle": "2022-11-15T10:10:12.165215Z",
     "shell.execute_reply": "2022-11-15T10:10:12.164031Z",
     "shell.execute_reply.started": "2022-11-15T10:10:11.688592Z"
    }
   },
   "outputs": [
    {
     "name": "stdout",
     "output_type": "stream",
     "text": [
      "<class 'pandas.core.frame.DataFrame'>\n",
      "RangeIndex: 220025 entries, 0 to 220024\n",
      "Data columns (total 2 columns):\n",
      " #   Column  Non-Null Count   Dtype \n",
      "---  ------  --------------   ----- \n",
      " 0   id      220025 non-null  object\n",
      " 1   label   220025 non-null  int64 \n",
      "dtypes: int64(1), object(1)\n",
      "memory usage: 3.4+ MB\n",
      "None\n",
      "                                         id  label\n",
      "0  f38a6374c348f90b587e046aac6079959adf3835      0\n",
      "1  c18f2d887b7ae4f6742ee445113fa1aef383ed77      1\n",
      "2  755db6279dae599ebb4d39a9123cce439965282d      0\n",
      "3  bc3f0c64fb968ff4a8bd33af6971ecae77c75e08      0\n",
      "4  068aba587a4950175d04c680d38943fd488d6a9d      0\n"
     ]
    }
   ],
   "source": [
    "train_df: pd.DataFrame = pd.read_csv(DATA_DIR + TRAIN_LABELS)\n",
    "print(train_df.info())\n",
    "print(train_df.head())"
   ]
  },
  {
   "cell_type": "markdown",
   "metadata": {},
   "source": [
    "## Check for duplicated values"
   ]
  },
  {
   "cell_type": "code",
   "execution_count": 4,
   "metadata": {
    "execution": {
     "iopub.execute_input": "2022-11-15T10:10:12.168379Z",
     "iopub.status.busy": "2022-11-15T10:10:12.167993Z",
     "iopub.status.idle": "2022-11-15T10:10:12.266884Z",
     "shell.execute_reply": "2022-11-15T10:10:12.265649Z",
     "shell.execute_reply.started": "2022-11-15T10:10:12.168343Z"
    }
   },
   "outputs": [
    {
     "name": "stdout",
     "output_type": "stream",
     "text": [
      "Empty DataFrame\n",
      "Columns: [id, label]\n",
      "Index: []\n"
     ]
    }
   ],
   "source": [
    "print(train_df[train_df['id'].duplicated(keep=False)])"
   ]
  },
  {
   "cell_type": "markdown",
   "source": [
    "No duplicated values found."
   ],
   "metadata": {
    "collapsed": false
   }
  },
  {
   "cell_type": "markdown",
   "metadata": {},
   "source": [
    "## Check if dataset is balanced"
   ]
  },
  {
   "cell_type": "code",
   "execution_count": 5,
   "metadata": {
    "execution": {
     "iopub.execute_input": "2022-11-15T10:10:12.269734Z",
     "iopub.status.busy": "2022-11-15T10:10:12.268632Z",
     "iopub.status.idle": "2022-11-15T10:10:12.383608Z",
     "shell.execute_reply": "2022-11-15T10:10:12.381948Z",
     "shell.execute_reply.started": "2022-11-15T10:10:12.269696Z"
    }
   },
   "outputs": [
    {
     "data": {
      "text/plain": "Counter({0: 130908, 1: 89117})"
     },
     "execution_count": 5,
     "metadata": {},
     "output_type": "execute_result"
    }
   ],
   "source": [
    "Counter(train_df['label'])"
   ]
  },
  {
   "cell_type": "markdown",
   "metadata": {},
   "source": [
    "As we can see, it is not balanced. Let's fix it. I choose to UNDERsample the dataset because I don't know how to synthesise new values for images."
   ]
  },
  {
   "cell_type": "code",
   "execution_count": 6,
   "metadata": {
    "execution": {
     "iopub.execute_input": "2022-11-15T10:10:12.389883Z",
     "iopub.status.busy": "2022-11-15T10:10:12.387685Z",
     "iopub.status.idle": "2022-11-15T10:10:12.507955Z",
     "shell.execute_reply": "2022-11-15T10:10:12.506977Z",
     "shell.execute_reply.started": "2022-11-15T10:10:12.389845Z"
    }
   },
   "outputs": [
    {
     "name": "stdout",
     "output_type": "stream",
     "text": [
      "{1}\n",
      "{1}\n"
     ]
    }
   ],
   "source": [
    "normal = train_df.loc[train_df['label'] == 0]\n",
    "malignant = train_df.loc[train_df['label'] == 1]\n",
    "\n",
    "print(set(Counter(normal['id']).values()))\n",
    "print(set(Counter(malignant['id']).values()))"
   ]
  },
  {
   "cell_type": "code",
   "execution_count": 7,
   "metadata": {
    "execution": {
     "iopub.execute_input": "2022-11-15T10:10:12.514360Z",
     "iopub.status.busy": "2022-11-15T10:10:12.512137Z",
     "iopub.status.idle": "2022-11-15T10:10:12.520365Z",
     "shell.execute_reply": "2022-11-15T10:10:12.519392Z",
     "shell.execute_reply.started": "2022-11-15T10:10:12.514321Z"
    }
   },
   "outputs": [],
   "source": [
    "balance_size = len(malignant)"
   ]
  },
  {
   "cell_type": "code",
   "execution_count": 8,
   "metadata": {
    "execution": {
     "iopub.execute_input": "2022-11-15T10:10:12.525284Z",
     "iopub.status.busy": "2022-11-15T10:10:12.524562Z",
     "iopub.status.idle": "2022-11-15T10:10:12.550839Z",
     "shell.execute_reply": "2022-11-15T10:10:12.549890Z",
     "shell.execute_reply.started": "2022-11-15T10:10:12.525246Z"
    }
   },
   "outputs": [
    {
     "name": "stdout",
     "output_type": "stream",
     "text": [
      "(130908, 2) (89117, 2)\n"
     ]
    }
   ],
   "source": [
    "normal = normal.to_numpy()\n",
    "malignant = malignant.to_numpy()\n",
    "print(normal.shape, malignant.shape)"
   ]
  },
  {
   "cell_type": "code",
   "execution_count": 9,
   "metadata": {
    "execution": {
     "iopub.execute_input": "2022-11-15T10:10:12.557291Z",
     "iopub.status.busy": "2022-11-15T10:10:12.555087Z",
     "iopub.status.idle": "2022-11-15T10:10:12.563534Z",
     "shell.execute_reply": "2022-11-15T10:10:12.562574Z",
     "shell.execute_reply.started": "2022-11-15T10:10:12.557251Z"
    }
   },
   "outputs": [],
   "source": [
    "normal = normal[:balance_size, :]"
   ]
  },
  {
   "cell_type": "code",
   "execution_count": 10,
   "metadata": {
    "execution": {
     "iopub.execute_input": "2022-11-15T10:10:12.573578Z",
     "iopub.status.busy": "2022-11-15T10:10:12.571384Z",
     "iopub.status.idle": "2022-11-15T10:10:12.651328Z",
     "shell.execute_reply": "2022-11-15T10:10:12.650329Z",
     "shell.execute_reply.started": "2022-11-15T10:10:12.573540Z"
    }
   },
   "outputs": [
    {
     "name": "stdout",
     "output_type": "stream",
     "text": [
      "{1}\n",
      "{1}\n"
     ]
    }
   ],
   "source": [
    "print(set(Counter(normal[:, 0]).values()))\n",
    "print(set(Counter(malignant[:, 0]).values()))\n",
    "\n",
    "normal_and_malignant = np.insert(normal, np.arange(len(normal)), malignant, axis=0)\n",
    "balanced_train_df = pd.DataFrame(normal_and_malignant, columns=['id', 'label'])\n",
    "\n",
    "image_directory: str = os.path.join(DATA_DIR, \"train\")\n",
    "image_names: list[str] = sorted(os.listdir(image_directory))\n",
    "balanced_train_df['id'] = balanced_train_df['id'].apply(lambda x: x + '.tif')\n",
    "intersected = np.intersect1d(balanced_train_df['id'].to_numpy().tolist(), image_names)\n",
    "\n",
    "balanced_train_df = balanced_train_df[balanced_train_df['id'].isin(intersected)]\n",
    "balanced_train_df['id'] = balanced_train_df['id'].apply(lambda x: os.path.join(image_directory, x))"
   ]
  },
  {
   "cell_type": "markdown",
   "source": [
    "# Implementing custom dataset"
   ],
   "metadata": {
    "collapsed": false
   }
  },
  {
   "cell_type": "code",
   "execution_count": 20,
   "outputs": [],
   "source": [
    "class HistopathologicCancerDS(Dataset):\n",
    "    def __init__(self,\n",
    "                 dataframe: pd.DataFrame,\n",
    "                 transform=None):\n",
    "        self.transform = transform\n",
    "        self.labels = dataframe['label'].to_numpy()\n",
    "        self.abs_image_path = dataframe['id'].to_numpy()\n",
    "        print(\"Converting images to tensors...\")\n",
    "        processed_images_path = os.path.join('data', 'images.pt')\n",
    "        print(f'Processed Images path: {processed_images_path}')\n",
    "        if os.path.exists(processed_images_path):\n",
    "            print(\"Loading images...\")\n",
    "            self.images = torch.load(processed_images_path)\n",
    "        else:\n",
    "            self.images = self._images_to_tensors()\n",
    "            print(f\"object type: {type(self.images)},\\n\"\n",
    "                  f\"object length: {len(self.images)}, \\n\"\n",
    "                  f\"object shape: {self.images.shape}\")\n",
    "            print(\"Trying to save tensor to file...\")\n",
    "            os.mkdir('data')\n",
    "            torch.save(self.images, processed_images_path)\n",
    "        print(\"Done\")\n",
    "        print(\"The dataset is ready for use.\")\n",
    "\n",
    "    def __len__(self):\n",
    "        return len(self.abs_image_path)\n",
    "\n",
    "    def _images_to_tensors(self):\n",
    "        images = []\n",
    "        for i in tqdm(range(len(self.abs_image_path))):\n",
    "            with Image.open(self.abs_image_path[i]) as image:\n",
    "                images.append(self.transform(image))\n",
    "        return torch.stack(images)\n",
    "\n",
    "    def __getitem__(self, index):\n",
    "        return self.images[index], self.labels[index]"
   ],
   "metadata": {
    "collapsed": false
   }
  },
  {
   "cell_type": "code",
   "execution_count": 21,
   "outputs": [],
   "source": [
    "ds_transformer = transforms.Compose([transforms.CenterCrop(CENTER_SIZE),\n",
    "                                     transforms.ToTensor(),\n",
    "                                     transforms.Normalize(mean=[0.485, 0.456, 0.406], std=[0.229, 0.224, 0.225])])"
   ],
   "metadata": {
    "collapsed": false
   }
  },
  {
   "cell_type": "code",
   "execution_count": 22,
   "outputs": [
    {
     "name": "stdout",
     "output_type": "stream",
     "text": [
      "Converting images to tensors...\n",
      "Processed Images path: data\\images.pt\n"
     ]
    },
    {
     "data": {
      "text/plain": "  0%|          | 0/178234 [00:00<?, ?it/s]",
      "application/vnd.jupyter.widget-view+json": {
       "version_major": 2,
       "version_minor": 0,
       "model_id": "18371c5aada04021a64682453e984fa9"
      }
     },
     "metadata": {},
     "output_type": "display_data"
    },
    {
     "name": "stdout",
     "output_type": "stream",
     "text": [
      "object type: <class 'torch.Tensor'>,\n",
      "object length: 178234, \n",
      "object shape: torch.Size([178234, 3, 32, 32])\n",
      "Trying to save tensor to file...\n",
      "Done\n",
      "The dataset is ready for use.\n"
     ]
    }
   ],
   "source": [
    "dataset = HistopathologicCancerDS(dataframe=balanced_train_df, transform=ds_transformer)"
   ],
   "metadata": {
    "collapsed": false
   }
  },
  {
   "cell_type": "code",
   "execution_count": 23,
   "outputs": [
    {
     "name": "stdout",
     "output_type": "stream",
     "text": [
      "dataset length: 178234\n"
     ]
    }
   ],
   "source": [
    "print(f\"dataset length: {len(dataset)}\")"
   ],
   "metadata": {
    "collapsed": false
   }
  },
  {
   "cell_type": "code",
   "execution_count": 24,
   "outputs": [
    {
     "name": "stdout",
     "output_type": "stream",
     "text": [
      "torch.Size([3, 32, 32]) 1\n"
     ]
    }
   ],
   "source": [
    "sample, label = dataset[0]\n",
    "print(sample.shape, label)"
   ],
   "metadata": {
    "collapsed": false
   }
  },
  {
   "cell_type": "code",
   "execution_count": 16,
   "outputs": [],
   "source": [
    "def image2plot(image) -> None:\n",
    "    image = image.numpy()\n",
    "    channel_last_image = np.transpose(image, (1, 2, 0))\n",
    "    plt.imshow(channel_last_image)"
   ],
   "metadata": {
    "collapsed": false
   }
  },
  {
   "cell_type": "markdown",
   "source": [
    "## Splitting dataset into train and test sets"
   ],
   "metadata": {
    "collapsed": false
   }
  },
  {
   "cell_type": "code",
   "execution_count": 26,
   "outputs": [
    {
     "name": "stdout",
     "output_type": "stream",
     "text": [
      "train dataset size: 160410, validation dataset size: 17824\n",
      "(tensor([[[ 1.8037,  1.6838,  1.6153,  ...,  1.5639,  1.5982,  0.9303],\n",
      "         [ 0.6734,  1.5810,  1.7352,  ...,  1.1187,  0.8961,  1.2728],\n",
      "         [ 1.1358,  1.0159,  2.1975,  ..., -0.3198,  0.0056,  1.2557],\n",
      "         ...,\n",
      "         [ 0.8447,  1.7009,  2.0948,  ...,  0.7762,  0.4508, -0.3369],\n",
      "         [ 1.0502,  1.6153,  1.8550,  ..., -0.4226, -0.5082, -0.6965],\n",
      "         [ 1.2899,  2.1804,  1.3584,  ..., -0.3712, -0.3712, -0.4054]],\n",
      "\n",
      "        [[ 1.4657,  1.3081,  1.2206,  ...,  0.6429,  0.6254, -0.1099],\n",
      "         [ 0.2577,  1.1856,  1.3081,  ...,  0.1702, -0.0924,  0.2402],\n",
      "         [ 0.6779,  0.5378,  1.7283,  ..., -1.2654, -1.0203,  0.2227],\n",
      "         ...,\n",
      "         [ 0.2052,  1.0105,  1.3431,  ..., -0.1099, -0.4601, -1.2829],\n",
      "         [ 0.3627,  0.8529,  1.0630,  ..., -1.1253, -1.1604, -1.3354],\n",
      "         [ 0.5203,  1.3957,  0.5203,  ..., -0.8803, -0.7927, -0.7927]],\n",
      "\n",
      "        [[ 1.7511,  1.6117,  1.5245,  ...,  1.0888,  1.1934,  0.5485],\n",
      "         [ 0.7054,  1.6291,  1.8208,  ...,  0.8622,  0.6879,  1.1062],\n",
      "         [ 1.2805,  1.2108,  2.5180,  ..., -0.2707,  0.0431,  1.2980],\n",
      "         ...,\n",
      "         [ 1.1062,  1.7511,  1.9080,  ...,  0.8797,  0.6705, -0.0615],\n",
      "         [ 1.2805,  1.5942,  1.6117,  ..., -0.1661, -0.0790, -0.1661],\n",
      "         [ 1.4722,  2.1520,  1.0365,  ...,  0.0082,  0.1999,  0.2696]]]), 0)\n"
     ]
    }
   ],
   "source": [
    "ds_len = len(dataset)\n",
    "train_size = int(0.9 * ds_len)\n",
    "validation_size = ds_len - train_size\n",
    "train_ds, validation_ds = random_split(dataset, [train_size, validation_size])\n",
    "print(f\"train dataset size: {len(train_ds)}, validation dataset size: {len(validation_ds)}\")\n",
    "print(train_ds[0])"
   ],
   "metadata": {
    "collapsed": false
   }
  },
  {
   "cell_type": "code",
   "execution_count": 18,
   "outputs": [],
   "source": [
    "train_transformation = transforms.Compose([transforms.CenterCrop(CENTER_SIZE),\n",
    "                                           transforms.ToTensor(),\n",
    "                                           transforms.Normalize(mean=[0.485, 0.456, 0.406], std=[0.229, 0.224, 0.225])])\n",
    "validation_transformation = transforms.Compose([transforms.CenterCrop(CENTER_SIZE),\n",
    "                                                transforms.ToTensor(),\n",
    "                                                transforms.Normalize(mean=[0.485, 0.456, 0.406],\n",
    "                                                                     std=[0.229, 0.224, 0.225])\n",
    "                                                ])"
   ],
   "metadata": {
    "collapsed": false
   }
  },
  {
   "cell_type": "code",
   "execution_count": 19,
   "outputs": [
    {
     "name": "stderr",
     "output_type": "stream",
     "text": [
      "Clipping input data to the valid range for imshow with RGB data ([0..1] for floats or [0..255] for integers).\n"
     ]
    },
    {
     "name": "stdout",
     "output_type": "stream",
     "text": [
      "label: 1\n"
     ]
    },
    {
     "data": {
      "text/plain": "<Figure size 640x480 with 1 Axes>",
      "image/png": "[encoded data removed]"
     },
     "metadata": {},
     "output_type": "display_data"
    }
   ],
   "source": [
    "random_train_sample, random_train_label = train_ds[np.random.randint(0, len(train_ds))]\n",
    "image2plot(random_train_sample)\n",
    "print(f\"label: {random_train_label}\")"
   ],
   "metadata": {
    "collapsed": false
   }
  },
  {
   "cell_type": "code",
   "execution_count": 27,
   "outputs": [],
   "source": [
    "train_dl = DataLoader(train_ds, batch_size=BATCH_SIZE, shuffle=True)\n",
    "validation_dl = DataLoader(validation_ds, batch_size=VALIDATION_BATCH_SIZE, shuffle=True)"
   ],
   "metadata": {
    "collapsed": false
   }
  },
  {
   "cell_type": "code",
   "execution_count": 33,
   "outputs": [
    {
     "name": "stdout",
     "output_type": "stream",
     "text": [
      "torch.Size([64, 3072])\n",
      "label: tensor([0, 1, 0, 0, 1, 0, 0, 1, 0, 1, 0, 1, 0, 0, 1, 1, 1, 0, 0, 1, 0, 1, 0, 0,\n",
      "        0, 0, 0, 1, 0, 0, 1, 0, 1, 0, 1, 1, 0, 0, 1, 0, 1, 1, 0, 1, 1, 0, 0, 0,\n",
      "        1, 0, 1, 0, 1, 1, 0, 0, 0, 0, 0, 0, 0, 0, 1, 0])\n"
     ]
    }
   ],
   "source": [
    "for tensor, label in train_dl:\n",
    "    print(tensor.view(len(tensor), -1).shape)\n",
    "    print(f\"label: {label}\")\n",
    "    break"
   ],
   "metadata": {
    "collapsed": false
   }
  },
  {
   "cell_type": "markdown",
   "source": [
    "# Building NN"
   ],
   "metadata": {
    "collapsed": false
   }
  },
  {
   "cell_type": "markdown",
   "source": [
    "Creating an util function to evaluate shapes after convolutions (yes, I'm so lazy)"
   ],
   "metadata": {
    "collapsed": false
   }
  },
  {
   "cell_type": "code",
   "execution_count": 73,
   "outputs": [],
   "source": [
    "def eval_shape(height, width, model, pool=0):\n",
    "    for layer in model.modules():\n",
    "        if isinstance(layer, nn.Conv2d) or isinstance(layer, nn.MaxPool2d):\n",
    "            kernel_size = layer.kernel_size\n",
    "            stride = layer.stride\n",
    "            padding = layer.padding\n",
    "            dilation = layer.dilation\n",
    "            if isinstance(layer, nn.Conv2d):\n",
    "                height = np.floor((height + 2 * padding[0] - dilation[0] * (kernel_size[0] - 1) - 1) / stride[0] + 1)\n",
    "                width = np.floor((width + 2 * padding[1] - dilation[1] * (kernel_size[1] - 1) - 1) / stride[1] + 1)\n",
    "            elif isinstance(layer, nn.MaxPool2d):\n",
    "                height = np.floor((height + 2 * padding - dilation * (kernel_size - 1) - 1) / stride + 1)\n",
    "                width = np.floor((width + 2 * padding - dilation * (kernel_size - 1) - 1) / stride + 1)\n",
    "    if pool:\n",
    "        height /= pool\n",
    "        width /= pool\n",
    "    return int(height), int(width)"
   ],
   "metadata": {
    "collapsed": false
   }
  },
  {
   "cell_type": "markdown",
   "source": [
    "Our main neural model we will train."
   ],
   "metadata": {
    "collapsed": false
   }
  },
  {
   "cell_type": "code",
   "execution_count": 74,
   "outputs": [],
   "source": [
    "class ConvWithReLU(nn.Module):\n",
    "    def __init__(self, in_channels: int, out_channels: int, kernel_size: int = 3, stride: int = 1):\n",
    "        super(ConvWithReLU, self).__init__()\n",
    "        self.block = nn.Sequential(nn.Conv2d(in_channels, out_channels, kernel_size, stride),\n",
    "                                   nn.ReLU())\n",
    "\n",
    "    def forward(self, x):\n",
    "        return self.block(x)\n",
    "\n",
    "\n",
    "class CD2Conv(nn.Module):\n",
    "    def __init__(self):\n",
    "        super(CD2Conv, self).__init__()\n",
    "        self.conv_block = nn.Sequential(\n",
    "            ConvWithReLU(3, 32, 7),\n",
    "            ConvWithReLU(32, 64, 5)\n",
    "        )\n",
    "        self.relu = nn.ReLU()\n",
    "        h, w = eval_shape(32, 32, self.conv_block)\n",
    "        self.size = h * w\n",
    "        self.fc1 = nn.Linear(64 * self.size, 512)\n",
    "        self.fc2 = nn.Linear(512, 1)\n",
    "\n",
    "    def forward(self, x):\n",
    "        x = self.conv_block(x)\n",
    "        x = torch.flatten(x, 1)\n",
    "        x = self.fc1(x)\n",
    "        x = self.relu(x)\n",
    "        x = self.fc2(x)\n",
    "        return x"
   ],
   "metadata": {
    "collapsed": false
   }
  },
  {
   "cell_type": "code",
   "execution_count": 23,
   "outputs": [],
   "source": [
    "dataloaders = {\n",
    "    'train': train_dl,\n",
    "    'validation': validation_dl\n",
    "}"
   ],
   "metadata": {
    "collapsed": false
   }
  },
  {
   "cell_type": "code",
   "execution_count": 24,
   "outputs": [],
   "source": [
    "device = torch.device('cuda' if torch.cuda.is_available() else 'cpu')\n",
    "model = CD2Conv().to(device)\n",
    "optimizer = Adam(model.parameters(), lr=1e-4)\n",
    "criteria = nn.BCEWithLogitsLoss()"
   ],
   "metadata": {
    "collapsed": false
   }
  },
  {
   "cell_type": "markdown",
   "source": [
    "# NN training"
   ],
   "metadata": {
    "collapsed": false
   }
  },
  {
   "cell_type": "code",
   "execution_count": 25,
   "outputs": [],
   "source": [
    "stats = {\n",
    "    'train': {\n",
    "        'loss': [],\n",
    "        'accuracy': []\n",
    "    },\n",
    "    'validation': {\n",
    "        'loss': [],\n",
    "        'accuracy': []\n",
    "    }\n",
    "}"
   ],
   "metadata": {
    "collapsed": false
   }
  },
  {
   "cell_type": "code",
   "execution_count": 26,
   "outputs": [],
   "source": [
    "def one_epoch(model,\n",
    "              dataloader,\n",
    "              criteria,\n",
    "              optimizer=None,\n",
    "              device=device):\n",
    "    running_loss = 0.0\n",
    "    running_accuracy = 0.0\n",
    "    number_of_samples = 0\n",
    "    for i, data in enumerate(tqdm(dataloader, desc='Batches')):\n",
    "        x, y = data\n",
    "        x = x.half().to(device)\n",
    "        y = y.to(device).float()\n",
    "\n",
    "        sample_size = x.size(0)\n",
    "\n",
    "        if optimizer:\n",
    "            optimizer.zero_grad()\n",
    "\n",
    "        with autocast():\n",
    "            output = model(x).view(len(x), -1)\n",
    "            loss = criteria(output, y)\n",
    "        output = torch.sigmoid(output)\n",
    "        y = y.int()\n",
    "        output = (output >= 0.5) * 1\n",
    "\n",
    "        running_accuracy += torch.sum(output == y).item()\n",
    "        running_loss += float(loss.item() * sample_size)\n",
    "        number_of_samples += sample_size\n",
    "\n",
    "        if optimizer:\n",
    "            loss.backward()\n",
    "            optimizer.step()\n",
    "\n",
    "        if torch.cuda.is_available():\n",
    "            del x, output, loss\n",
    "            gc.collect()\n",
    "            with torch.cuda.device(device):\n",
    "                torch.cuda.empty_cache()\n",
    "\n",
    "    loss = running_loss / len(dataloader.dataset)\n",
    "    accuracy = running_accuracy / number_of_samples\n",
    "    return loss, accuracy\n",
    "\n",
    "\n",
    "def train(model,\n",
    "          dataloaders,\n",
    "          criteria,\n",
    "          optimizer,\n",
    "          epochs,\n",
    "          stats,\n",
    "          device):\n",
    "    print(\"Epochs\")\n",
    "    for epoch in tqdm(range(epochs), desc=\"Epochs\"):\n",
    "        avg_train_loss, avg_train_accuracy = one_epoch(model, dataloaders['train'], criteria, optimizer)\n",
    "        stats['train']['loss'].append(avg_train_loss)\n",
    "        stats['train']['accuracy'].append(avg_train_accuracy)\n",
    "        print(f\"Training average loss - {avg_train_loss}, average accuracy - {avg_train_accuracy}\")\n",
    "\n",
    "        with torch.no_grad():\n",
    "            avg_valid_loss, avg_valid_accuracy = one_epoch(model, dataloaders['validation'], criteria)\n",
    "        stats['validation']['loss'].append(avg_valid_loss)\n",
    "        stats['validation']['accuracy'].append(avg_valid_accuracy)\n",
    "        print(f\"Validation loss - {avg_valid_loss},  accuracy - {avg_valid_accuracy}\")\n"
   ],
   "metadata": {
    "collapsed": false
   }
  },
  {
   "cell_type": "code",
   "execution_count": 27,
   "outputs": [
    {
     "name": "stdout",
     "output_type": "stream",
     "text": [
      "Epochs\n"
     ]
    },
    {
     "data": {
      "text/plain": "Epochs:   0%|          | 0/50 [00:00<?, ?it/s]",
      "application/vnd.jupyter.widget-view+json": {
       "version_major": 2,
       "version_minor": 0,
       "model_id": "bafde01f26fc40c7971d53e10133b914"
      }
     },
     "metadata": {},
     "output_type": "display_data"
    },
    {
     "data": {
      "text/plain": "Batches:   0%|          | 0/2507 [00:00<?, ?it/s]",
      "application/vnd.jupyter.widget-view+json": {
       "version_major": 2,
       "version_minor": 0,
       "model_id": "36fc140daee1441ea2a492f68de0e2d7"
      }
     },
     "metadata": {},
     "output_type": "display_data"
    },
    {
     "name": "stdout",
     "output_type": "stream",
     "text": [
      "Training average loss - 0.4985108335337268, average accuracy - 0.7663050931986783\n"
     ]
    },
    {
     "data": {
      "text/plain": "Batches:   0%|          | 0/35 [00:00<?, ?it/s]",
      "application/vnd.jupyter.widget-view+json": {
       "version_major": 2,
       "version_minor": 0,
       "model_id": "368173840e3e487ea21d32438f11f2d4"
      }
     },
     "metadata": {},
     "output_type": "display_data"
    },
    {
     "name": "stdout",
     "output_type": "stream",
     "text": [
      "Validation loss - 0.46445802533647956,  accuracy - 0.7837746858168761\n"
     ]
    },
    {
     "data": {
      "text/plain": "Batches:   0%|          | 0/2507 [00:00<?, ?it/s]",
      "application/vnd.jupyter.widget-view+json": {
       "version_major": 2,
       "version_minor": 0,
       "model_id": "f6103137068348e4936c6519656256e5"
      }
     },
     "metadata": {},
     "output_type": "display_data"
    },
    {
     "name": "stdout",
     "output_type": "stream",
     "text": [
      "Training average loss - 0.4442657590009024, average accuracy - 0.7968268811171373\n"
     ]
    },
    {
     "data": {
      "text/plain": "Batches:   0%|          | 0/35 [00:00<?, ?it/s]",
      "application/vnd.jupyter.widget-view+json": {
       "version_major": 2,
       "version_minor": 0,
       "model_id": "239ea1c54b74495881e75416fd46c756"
      }
     },
     "metadata": {},
     "output_type": "display_data"
    },
    {
     "name": "stdout",
     "output_type": "stream",
     "text": [
      "Validation loss - 0.45765722568416084,  accuracy - 0.7899461400359067\n"
     ]
    },
    {
     "data": {
      "text/plain": "Batches:   0%|          | 0/2507 [00:00<?, ?it/s]",
      "application/vnd.jupyter.widget-view+json": {
       "version_major": 2,
       "version_minor": 0,
       "model_id": "58102847ae7e4c988af911bb37f35d9c"
      }
     },
     "metadata": {},
     "output_type": "display_data"
    },
    {
     "name": "stdout",
     "output_type": "stream",
     "text": [
      "Training average loss - 0.41425208817039016, average accuracy - 0.814057727074372\n"
     ]
    },
    {
     "data": {
      "text/plain": "Batches:   0%|          | 0/35 [00:00<?, ?it/s]",
      "application/vnd.jupyter.widget-view+json": {
       "version_major": 2,
       "version_minor": 0,
       "model_id": "0405e224a5c94e9bbdc107124b7a01f0"
      }
     },
     "metadata": {},
     "output_type": "display_data"
    },
    {
     "name": "stdout",
     "output_type": "stream",
     "text": [
      "Validation loss - 0.42309573191072614,  accuracy - 0.8098631059245961\n"
     ]
    },
    {
     "data": {
      "text/plain": "Batches:   0%|          | 0/2507 [00:00<?, ?it/s]",
      "application/vnd.jupyter.widget-view+json": {
       "version_major": 2,
       "version_minor": 0,
       "model_id": "fe9a978febf34316a9b0c146d14c32af"
      }
     },
     "metadata": {},
     "output_type": "display_data"
    },
    {
     "name": "stdout",
     "output_type": "stream",
     "text": [
      "Training average loss - 0.38183394238528345, average accuracy - 0.8314381896390499\n"
     ]
    },
    {
     "data": {
      "text/plain": "Batches:   0%|          | 0/35 [00:00<?, ?it/s]",
      "application/vnd.jupyter.widget-view+json": {
       "version_major": 2,
       "version_minor": 0,
       "model_id": "d58d4a278ef242cf867e98fde444833d"
      }
     },
     "metadata": {},
     "output_type": "display_data"
    },
    {
     "name": "stdout",
     "output_type": "stream",
     "text": [
      "Validation loss - 0.4533008541945281,  accuracy - 0.7969591561938959\n"
     ]
    },
    {
     "data": {
      "text/plain": "Batches:   0%|          | 0/2507 [00:00<?, ?it/s]",
      "application/vnd.jupyter.widget-view+json": {
       "version_major": 2,
       "version_minor": 0,
       "model_id": "d7e94613f73a43b39e7f78c0d9096515"
      }
     },
     "metadata": {},
     "output_type": "display_data"
    },
    {
     "name": "stdout",
     "output_type": "stream",
     "text": [
      "Training average loss - 0.3432628141545081, average accuracy - 0.8515865594414314\n"
     ]
    },
    {
     "data": {
      "text/plain": "Batches:   0%|          | 0/35 [00:00<?, ?it/s]",
      "application/vnd.jupyter.widget-view+json": {
       "version_major": 2,
       "version_minor": 0,
       "model_id": "8c4e050f0b6a4f4ca35060fe354c65ae"
      }
     },
     "metadata": {},
     "output_type": "display_data"
    },
    {
     "name": "stdout",
     "output_type": "stream",
     "text": [
      "Validation loss - 0.4410030080985338,  accuracy - 0.806609066427289\n"
     ]
    },
    {
     "data": {
      "text/plain": "Batches:   0%|          | 0/2507 [00:00<?, ?it/s]",
      "application/vnd.jupyter.widget-view+json": {
       "version_major": 2,
       "version_minor": 0,
       "model_id": "0609c4577d584a6ba400da9c11635543"
      }
     },
     "metadata": {},
     "output_type": "display_data"
    },
    {
     "name": "stdout",
     "output_type": "stream",
     "text": [
      "Training average loss - 0.29605176185206816, average accuracy - 0.8778941462502338\n"
     ]
    },
    {
     "data": {
      "text/plain": "Batches:   0%|          | 0/35 [00:00<?, ?it/s]",
      "application/vnd.jupyter.widget-view+json": {
       "version_major": 2,
       "version_minor": 0,
       "model_id": "2ffcf67d5ba245cc9de750b67baec71a"
      }
     },
     "metadata": {},
     "output_type": "display_data"
    },
    {
     "name": "stdout",
     "output_type": "stream",
     "text": [
      "Validation loss - 0.46640510201668184,  accuracy - 0.8006620287253142\n"
     ]
    },
    {
     "data": {
      "text/plain": "Batches:   0%|          | 0/2507 [00:00<?, ?it/s]",
      "application/vnd.jupyter.widget-view+json": {
       "version_major": 2,
       "version_minor": 0,
       "model_id": "4121e3df8f92405aa6291b43cf7991d2"
      }
     },
     "metadata": {},
     "output_type": "display_data"
    },
    {
     "name": "stdout",
     "output_type": "stream",
     "text": [
      "Training average loss - 0.24259970114178495, average accuracy - 0.9045321364004738\n"
     ]
    },
    {
     "data": {
      "text/plain": "Batches:   0%|          | 0/35 [00:00<?, ?it/s]",
      "application/vnd.jupyter.widget-view+json": {
       "version_major": 2,
       "version_minor": 0,
       "model_id": "a1afd921903e4605bab760521c999936"
      }
     },
     "metadata": {},
     "output_type": "display_data"
    },
    {
     "name": "stdout",
     "output_type": "stream",
     "text": [
      "Validation loss - 0.5048448279687275,  accuracy - 0.7917414721723519\n"
     ]
    },
    {
     "data": {
      "text/plain": "Batches:   0%|          | 0/2507 [00:00<?, ?it/s]",
      "application/vnd.jupyter.widget-view+json": {
       "version_major": 2,
       "version_minor": 0,
       "model_id": "f813959fb53f4c8d8b11884bb4781e26"
      }
     },
     "metadata": {},
     "output_type": "display_data"
    },
    {
     "name": "stdout",
     "output_type": "stream",
     "text": [
      "Training average loss - 0.18642172184865394, average accuracy - 0.932011719967583\n"
     ]
    },
    {
     "data": {
      "text/plain": "Batches:   0%|          | 0/35 [00:00<?, ?it/s]",
      "application/vnd.jupyter.widget-view+json": {
       "version_major": 2,
       "version_minor": 0,
       "model_id": "b32a2f0049f0431493c82eb85930da6e"
      }
     },
     "metadata": {},
     "output_type": "display_data"
    },
    {
     "name": "stdout",
     "output_type": "stream",
     "text": [
      "Validation loss - 0.5521232419424896,  accuracy - 0.7949955116696589\n"
     ]
    },
    {
     "data": {
      "text/plain": "Batches:   0%|          | 0/2507 [00:00<?, ?it/s]",
      "application/vnd.jupyter.widget-view+json": {
       "version_major": 2,
       "version_minor": 0,
       "model_id": "ef674eb3d9774501a5a25126dd5d43fb"
      }
     },
     "metadata": {},
     "output_type": "display_data"
    },
    {
     "name": "stdout",
     "output_type": "stream",
     "text": [
      "Training average loss - 0.14045187257433256, average accuracy - 0.9514992830870893\n"
     ]
    },
    {
     "data": {
      "text/plain": "Batches:   0%|          | 0/35 [00:00<?, ?it/s]",
      "application/vnd.jupyter.widget-view+json": {
       "version_major": 2,
       "version_minor": 0,
       "model_id": "8b37bf5076b9461996fd3dab9a33a80d"
      }
     },
     "metadata": {},
     "output_type": "display_data"
    },
    {
     "name": "stdout",
     "output_type": "stream",
     "text": [
      "Validation loss - 0.6397501179945105,  accuracy - 0.7960053859964094\n"
     ]
    },
    {
     "data": {
      "text/plain": "Batches:   0%|          | 0/2507 [00:00<?, ?it/s]",
      "application/vnd.jupyter.widget-view+json": {
       "version_major": 2,
       "version_minor": 0,
       "model_id": "ca0f67b3f70f411fbe9dd0b49926771d"
      }
     },
     "metadata": {},
     "output_type": "display_data"
    },
    {
     "name": "stdout",
     "output_type": "stream",
     "text": [
      "Training average loss - 0.10429914517253944, average accuracy - 0.9654260956299483\n"
     ]
    },
    {
     "data": {
      "text/plain": "Batches:   0%|          | 0/35 [00:00<?, ?it/s]",
      "application/vnd.jupyter.widget-view+json": {
       "version_major": 2,
       "version_minor": 0,
       "model_id": "c90f16eea6224189abde4228bf0f416e"
      }
     },
     "metadata": {},
     "output_type": "display_data"
    },
    {
     "name": "stdout",
     "output_type": "stream",
     "text": [
      "Validation loss - 0.7164580095392156,  accuracy - 0.7915170556552962\n"
     ]
    },
    {
     "data": {
      "text/plain": "Batches:   0%|          | 0/2507 [00:00<?, ?it/s]",
      "application/vnd.jupyter.widget-view+json": {
       "version_major": 2,
       "version_minor": 0,
       "model_id": "99947df8fb064a53bce9b154880497e4"
      }
     },
     "metadata": {},
     "output_type": "display_data"
    },
    {
     "name": "stdout",
     "output_type": "stream",
     "text": [
      "Training average loss - 0.07917632235121336, average accuracy - 0.9745527086839972\n"
     ]
    },
    {
     "data": {
      "text/plain": "Batches:   0%|          | 0/35 [00:00<?, ?it/s]",
      "application/vnd.jupyter.widget-view+json": {
       "version_major": 2,
       "version_minor": 0,
       "model_id": "8d28703389594272a15b42dc176d08b3"
      }
     },
     "metadata": {},
     "output_type": "display_data"
    },
    {
     "name": "stdout",
     "output_type": "stream",
     "text": [
      "Validation loss - 0.8158650503124326,  accuracy - 0.785177289048474\n"
     ]
    },
    {
     "data": {
      "text/plain": "Batches:   0%|          | 0/2507 [00:00<?, ?it/s]",
      "application/vnd.jupyter.widget-view+json": {
       "version_major": 2,
       "version_minor": 0,
       "model_id": "2b2be521e25e475c8dd1db8b10684c7b"
      }
     },
     "metadata": {},
     "output_type": "display_data"
    },
    {
     "name": "stdout",
     "output_type": "stream",
     "text": [
      "Training average loss - 0.06395143009836028, average accuracy - 0.9800511190075432\n"
     ]
    },
    {
     "data": {
      "text/plain": "Batches:   0%|          | 0/35 [00:00<?, ?it/s]",
      "application/vnd.jupyter.widget-view+json": {
       "version_major": 2,
       "version_minor": 0,
       "model_id": "68ca08cc48664c01a3a76bf27a09cfc6"
      }
     },
     "metadata": {},
     "output_type": "display_data"
    },
    {
     "name": "stdout",
     "output_type": "stream",
     "text": [
      "Validation loss - 0.9008094742225359,  accuracy - 0.7897778276481149\n"
     ]
    },
    {
     "data": {
      "text/plain": "Batches:   0%|          | 0/2507 [00:00<?, ?it/s]",
      "application/vnd.jupyter.widget-view+json": {
       "version_major": 2,
       "version_minor": 0,
       "model_id": "96cabb09116d4dc7ac430f3ad3ea98c8"
      }
     },
     "metadata": {},
     "output_type": "display_data"
    },
    {
     "name": "stdout",
     "output_type": "stream",
     "text": [
      "Training average loss - 0.050952696133251464, average accuracy - 0.9845146811296054\n"
     ]
    },
    {
     "data": {
      "text/plain": "Batches:   0%|          | 0/35 [00:00<?, ?it/s]",
      "application/vnd.jupyter.widget-view+json": {
       "version_major": 2,
       "version_minor": 0,
       "model_id": "6ba5a225d46e48cfa71b0538bacf8428"
      }
     },
     "metadata": {},
     "output_type": "display_data"
    },
    {
     "name": "stdout",
     "output_type": "stream",
     "text": [
      "Validation loss - 0.9939860289571957,  accuracy - 0.7816427289048474\n"
     ]
    },
    {
     "data": {
      "text/plain": "Batches:   0%|          | 0/2507 [00:00<?, ?it/s]",
      "application/vnd.jupyter.widget-view+json": {
       "version_major": 2,
       "version_minor": 0,
       "model_id": "914e61a9c98a4c6aa8e2083be0cfb98f"
      }
     },
     "metadata": {},
     "output_type": "display_data"
    },
    {
     "name": "stdout",
     "output_type": "stream",
     "text": [
      "Training average loss - 0.04308083526133844, average accuracy - 0.9869147808740103\n"
     ]
    },
    {
     "data": {
      "text/plain": "Batches:   0%|          | 0/35 [00:00<?, ?it/s]",
      "application/vnd.jupyter.widget-view+json": {
       "version_major": 2,
       "version_minor": 0,
       "model_id": "fa822725a99b4f10995456988b8a7085"
      }
     },
     "metadata": {},
     "output_type": "display_data"
    },
    {
     "name": "stdout",
     "output_type": "stream",
     "text": [
      "Validation loss - 1.0751001824168371,  accuracy - 0.7888240574506283\n"
     ]
    },
    {
     "data": {
      "text/plain": "Batches:   0%|          | 0/2507 [00:00<?, ?it/s]",
      "application/vnd.jupyter.widget-view+json": {
       "version_major": 2,
       "version_minor": 0,
       "model_id": "449c916042da4eab80079427f0828ddf"
      }
     },
     "metadata": {},
     "output_type": "display_data"
    },
    {
     "name": "stdout",
     "output_type": "stream",
     "text": [
      "Training average loss - 0.03856921569372188, average accuracy - 0.9883299046194127\n"
     ]
    },
    {
     "data": {
      "text/plain": "Batches:   0%|          | 0/35 [00:00<?, ?it/s]",
      "application/vnd.jupyter.widget-view+json": {
       "version_major": 2,
       "version_minor": 0,
       "model_id": "6786ec4ea6f5476595bbb139145f77e0"
      }
     },
     "metadata": {},
     "output_type": "display_data"
    },
    {
     "name": "stdout",
     "output_type": "stream",
     "text": [
      "Validation loss - 1.1014119155531084,  accuracy - 0.7842796229802513\n"
     ]
    },
    {
     "data": {
      "text/plain": "Batches:   0%|          | 0/2507 [00:00<?, ?it/s]",
      "application/vnd.jupyter.widget-view+json": {
       "version_major": 2,
       "version_minor": 0,
       "model_id": "3bf20e5eabe14b78be4a689c4aea443a"
      }
     },
     "metadata": {},
     "output_type": "display_data"
    },
    {
     "name": "stdout",
     "output_type": "stream",
     "text": [
      "Training average loss - 0.03543155034073336, average accuracy - 0.9893709868462066\n"
     ]
    },
    {
     "data": {
      "text/plain": "Batches:   0%|          | 0/35 [00:00<?, ?it/s]",
      "application/vnd.jupyter.widget-view+json": {
       "version_major": 2,
       "version_minor": 0,
       "model_id": "52a9ad42d4164d15bc43eb5c4cc32626"
      }
     },
     "metadata": {},
     "output_type": "display_data"
    },
    {
     "name": "stdout",
     "output_type": "stream",
     "text": [
      "Validation loss - 1.1475415244778782,  accuracy - 0.7855139138240574\n"
     ]
    },
    {
     "data": {
      "text/plain": "Batches:   0%|          | 0/2507 [00:00<?, ?it/s]",
      "application/vnd.jupyter.widget-view+json": {
       "version_major": 2,
       "version_minor": 0,
       "model_id": "6719358cc5934113b9e83eb5d9df0bcf"
      }
     },
     "metadata": {},
     "output_type": "display_data"
    },
    {
     "name": "stdout",
     "output_type": "stream",
     "text": [
      "Training average loss - 0.03180304438016947, average accuracy - 0.9902873885667975\n"
     ]
    },
    {
     "data": {
      "text/plain": "Batches:   0%|          | 0/35 [00:00<?, ?it/s]",
      "application/vnd.jupyter.widget-view+json": {
       "version_major": 2,
       "version_minor": 0,
       "model_id": "c04597deb2cb43c1aa1234a47a28434b"
      }
     },
     "metadata": {},
     "output_type": "display_data"
    },
    {
     "name": "stdout",
     "output_type": "stream",
     "text": [
      "Validation loss - 1.2232741746697007,  accuracy - 0.7862432675044884\n"
     ]
    },
    {
     "data": {
      "text/plain": "Batches:   0%|          | 0/2507 [00:00<?, ?it/s]",
      "application/vnd.jupyter.widget-view+json": {
       "version_major": 2,
       "version_minor": 0,
       "model_id": "c5ed9266cd114867b522ceb06a3e558a"
      }
     },
     "metadata": {},
     "output_type": "display_data"
    },
    {
     "name": "stdout",
     "output_type": "stream",
     "text": [
      "Training average loss - 0.030613047728736156, average accuracy - 0.9905492176298236\n"
     ]
    },
    {
     "data": {
      "text/plain": "Batches:   0%|          | 0/35 [00:00<?, ?it/s]",
      "application/vnd.jupyter.widget-view+json": {
       "version_major": 2,
       "version_minor": 0,
       "model_id": "0800248117104f88b464d9d0c78057c0"
      }
     },
     "metadata": {},
     "output_type": "display_data"
    },
    {
     "name": "stdout",
     "output_type": "stream",
     "text": [
      "Validation loss - 1.2564841960448123,  accuracy - 0.7863554757630161\n"
     ]
    },
    {
     "data": {
      "text/plain": "Batches:   0%|          | 0/2507 [00:00<?, ?it/s]",
      "application/vnd.jupyter.widget-view+json": {
       "version_major": 2,
       "version_minor": 0,
       "model_id": "7d923a22e7064f56bddb43e7b4ba7acb"
      }
     },
     "metadata": {},
     "output_type": "display_data"
    },
    {
     "name": "stdout",
     "output_type": "stream",
     "text": [
      "Training average loss - 0.02787794155774053, average accuracy - 0.9913783429960725\n"
     ]
    },
    {
     "data": {
      "text/plain": "Batches:   0%|          | 0/35 [00:00<?, ?it/s]",
      "application/vnd.jupyter.widget-view+json": {
       "version_major": 2,
       "version_minor": 0,
       "model_id": "4931e49d30274b25accfcd6431152bf5"
      }
     },
     "metadata": {},
     "output_type": "display_data"
    },
    {
     "name": "stdout",
     "output_type": "stream",
     "text": [
      "Validation loss - 1.3320661909490341,  accuracy - 0.7757517953321365\n"
     ]
    },
    {
     "data": {
      "text/plain": "Batches:   0%|          | 0/2507 [00:00<?, ?it/s]",
      "application/vnd.jupyter.widget-view+json": {
       "version_major": 2,
       "version_minor": 0,
       "model_id": "0abb1da651344347a650f04f4d226f9c"
      }
     },
     "metadata": {},
     "output_type": "display_data"
    },
    {
     "name": "stdout",
     "output_type": "stream",
     "text": [
      "Training average loss - 0.026001509815894802, average accuracy - 0.9924256592481765\n"
     ]
    },
    {
     "data": {
      "text/plain": "Batches:   0%|          | 0/35 [00:00<?, ?it/s]",
      "application/vnd.jupyter.widget-view+json": {
       "version_major": 2,
       "version_minor": 0,
       "model_id": "d445af5714e045b6a3e9a7d2f0abf1a7"
      }
     },
     "metadata": {},
     "output_type": "display_data"
    },
    {
     "name": "stdout",
     "output_type": "stream",
     "text": [
      "Validation loss - 1.3510114988261963,  accuracy - 0.7733954219030521\n"
     ]
    },
    {
     "data": {
      "text/plain": "Batches:   0%|          | 0/2507 [00:00<?, ?it/s]",
      "application/vnd.jupyter.widget-view+json": {
       "version_major": 2,
       "version_minor": 0,
       "model_id": "7c6eca47dc044bc3853ae66a0d25da95"
      }
     },
     "metadata": {},
     "output_type": "display_data"
    },
    {
     "name": "stdout",
     "output_type": "stream",
     "text": [
      "Training average loss - 0.025204239713678217, average accuracy - 0.9921014899320492\n"
     ]
    },
    {
     "data": {
      "text/plain": "Batches:   0%|          | 0/35 [00:00<?, ?it/s]",
      "application/vnd.jupyter.widget-view+json": {
       "version_major": 2,
       "version_minor": 0,
       "model_id": "b9704df546cb465aba574feec9690439"
      }
     },
     "metadata": {},
     "output_type": "display_data"
    },
    {
     "name": "stdout",
     "output_type": "stream",
     "text": [
      "Validation loss - 1.2938344063407856,  accuracy - 0.7630722621184919\n"
     ]
    },
    {
     "data": {
      "text/plain": "Batches:   0%|          | 0/2507 [00:00<?, ?it/s]",
      "application/vnd.jupyter.widget-view+json": {
       "version_major": 2,
       "version_minor": 0,
       "model_id": "32602374727f4390b9e78bee4a34924e"
      }
     },
     "metadata": {},
     "output_type": "display_data"
    },
    {
     "name": "stdout",
     "output_type": "stream",
     "text": [
      "Training average loss - 0.023779822011762677, average accuracy - 0.9926313820834113\n"
     ]
    },
    {
     "data": {
      "text/plain": "Batches:   0%|          | 0/35 [00:00<?, ?it/s]",
      "application/vnd.jupyter.widget-view+json": {
       "version_major": 2,
       "version_minor": 0,
       "model_id": "fd95bd3b1f904230814a4c43421a7efd"
      }
     },
     "metadata": {},
     "output_type": "display_data"
    },
    {
     "name": "stdout",
     "output_type": "stream",
     "text": [
      "Validation loss - 1.4627092462467761,  accuracy - 0.7758078994614004\n"
     ]
    },
    {
     "data": {
      "text/plain": "Batches:   0%|          | 0/2507 [00:00<?, ?it/s]",
      "application/vnd.jupyter.widget-view+json": {
       "version_major": 2,
       "version_minor": 0,
       "model_id": "f195871f9c6443e286f5a97a150cb843"
      }
     },
     "metadata": {},
     "output_type": "display_data"
    },
    {
     "name": "stdout",
     "output_type": "stream",
     "text": [
      "Training average loss - 0.023193818821623614, average accuracy - 0.9929617854248488\n"
     ]
    },
    {
     "data": {
      "text/plain": "Batches:   0%|          | 0/35 [00:00<?, ?it/s]",
      "application/vnd.jupyter.widget-view+json": {
       "version_major": 2,
       "version_minor": 0,
       "model_id": "f416cb8e75ab41b2ace2b7959ac13766"
      }
     },
     "metadata": {},
     "output_type": "display_data"
    },
    {
     "name": "stdout",
     "output_type": "stream",
     "text": [
      "Validation loss - 1.4224729032876033,  accuracy - 0.7771543985637342\n"
     ]
    },
    {
     "data": {
      "text/plain": "Batches:   0%|          | 0/2507 [00:00<?, ?it/s]",
      "application/vnd.jupyter.widget-view+json": {
       "version_major": 2,
       "version_minor": 0,
       "model_id": "445ae0ce9185476db0e283e2c66024ff"
      }
     },
     "metadata": {},
     "output_type": "display_data"
    },
    {
     "name": "stdout",
     "output_type": "stream",
     "text": [
      "Training average loss - 0.022602215211626104, average accuracy - 0.9930739978804314\n"
     ]
    },
    {
     "data": {
      "text/plain": "Batches:   0%|          | 0/35 [00:00<?, ?it/s]",
      "application/vnd.jupyter.widget-view+json": {
       "version_major": 2,
       "version_minor": 0,
       "model_id": "eef1839c18724858bcddab0bf6a9db9d"
      }
     },
     "metadata": {},
     "output_type": "display_data"
    },
    {
     "name": "stdout",
     "output_type": "stream",
     "text": [
      "Validation loss - 1.4227733995156828,  accuracy - 0.7763128366247756\n"
     ]
    },
    {
     "data": {
      "text/plain": "Batches:   0%|          | 0/2507 [00:00<?, ?it/s]",
      "application/vnd.jupyter.widget-view+json": {
       "version_major": 2,
       "version_minor": 0,
       "model_id": "1b9e8b8807714303a5d96202ffdb40de"
      }
     },
     "metadata": {},
     "output_type": "display_data"
    },
    {
     "name": "stdout",
     "output_type": "stream",
     "text": [
      "Training average loss - 0.020838597496313914, average accuracy - 0.993709868462066\n"
     ]
    },
    {
     "data": {
      "text/plain": "Batches:   0%|          | 0/35 [00:00<?, ?it/s]",
      "application/vnd.jupyter.widget-view+json": {
       "version_major": 2,
       "version_minor": 0,
       "model_id": "abe07c72aab1459b8b109b846bb5de7d"
      }
     },
     "metadata": {},
     "output_type": "display_data"
    },
    {
     "name": "stdout",
     "output_type": "stream",
     "text": [
      "Validation loss - 1.4419373205363002,  accuracy - 0.779286355475763\n"
     ]
    },
    {
     "data": {
      "text/plain": "Batches:   0%|          | 0/2507 [00:00<?, ?it/s]",
      "application/vnd.jupyter.widget-view+json": {
       "version_major": 2,
       "version_minor": 0,
       "model_id": "71936650be314ec7a146c67c95a76caf"
      }
     },
     "metadata": {},
     "output_type": "display_data"
    },
    {
     "name": "stdout",
     "output_type": "stream",
     "text": [
      "Training average loss - 0.019254637611617113, average accuracy - 0.9942148245121876\n"
     ]
    },
    {
     "data": {
      "text/plain": "Batches:   0%|          | 0/35 [00:00<?, ?it/s]",
      "application/vnd.jupyter.widget-view+json": {
       "version_major": 2,
       "version_minor": 0,
       "model_id": "ce206d45f0844fac9d726b30adb5df69"
      }
     },
     "metadata": {},
     "output_type": "display_data"
    },
    {
     "name": "stdout",
     "output_type": "stream",
     "text": [
      "Validation loss - 1.4346644043708403,  accuracy - 0.7678411131059246\n"
     ]
    },
    {
     "data": {
      "text/plain": "Batches:   0%|          | 0/2507 [00:00<?, ?it/s]",
      "application/vnd.jupyter.widget-view+json": {
       "version_major": 2,
       "version_minor": 0,
       "model_id": "0664df4f07614d8e8f9b3592c62f49c2"
      }
     },
     "metadata": {},
     "output_type": "display_data"
    },
    {
     "name": "stdout",
     "output_type": "stream",
     "text": [
      "Training average loss - 0.020915760312807195, average accuracy - 0.9934293373231096\n"
     ]
    },
    {
     "data": {
      "text/plain": "Batches:   0%|          | 0/35 [00:00<?, ?it/s]",
      "application/vnd.jupyter.widget-view+json": {
       "version_major": 2,
       "version_minor": 0,
       "model_id": "fe10097878214d05854b355a1b35106c"
      }
     },
     "metadata": {},
     "output_type": "display_data"
    },
    {
     "name": "stdout",
     "output_type": "stream",
     "text": [
      "Validation loss - 1.4279378449253377,  accuracy - 0.7728904847396768\n"
     ]
    },
    {
     "data": {
      "text/plain": "Batches:   0%|          | 0/2507 [00:00<?, ?it/s]",
      "application/vnd.jupyter.widget-view+json": {
       "version_major": 2,
       "version_minor": 0,
       "model_id": "451e906ca46c42278b793790e198e543"
      }
     },
     "metadata": {},
     "output_type": "display_data"
    },
    {
     "name": "stdout",
     "output_type": "stream",
     "text": [
      "Training average loss - 0.018130269354358748, average accuracy - 0.9945389938283149\n"
     ]
    },
    {
     "data": {
      "text/plain": "Batches:   0%|          | 0/35 [00:00<?, ?it/s]",
      "application/vnd.jupyter.widget-view+json": {
       "version_major": 2,
       "version_minor": 0,
       "model_id": "9042340a3b344f5184bee22740168d5e"
      }
     },
     "metadata": {},
     "output_type": "display_data"
    },
    {
     "name": "stdout",
     "output_type": "stream",
     "text": [
      "Validation loss - 1.5066919076378513,  accuracy - 0.7704219030520646\n"
     ]
    },
    {
     "data": {
      "text/plain": "Batches:   0%|          | 0/2507 [00:00<?, ?it/s]",
      "application/vnd.jupyter.widget-view+json": {
       "version_major": 2,
       "version_minor": 0,
       "model_id": "579257a0daa24e48a9b48e28b888ffec"
      }
     },
     "metadata": {},
     "output_type": "display_data"
    },
    {
     "name": "stdout",
     "output_type": "stream",
     "text": [
      "Training average loss - 0.018407438183281718, average accuracy - 0.99432080294246\n"
     ]
    },
    {
     "data": {
      "text/plain": "Batches:   0%|          | 0/35 [00:00<?, ?it/s]",
      "application/vnd.jupyter.widget-view+json": {
       "version_major": 2,
       "version_minor": 0,
       "model_id": "430b6be57e8049719e5b23c12a1611d5"
      }
     },
     "metadata": {},
     "output_type": "display_data"
    },
    {
     "name": "stdout",
     "output_type": "stream",
     "text": [
      "Validation loss - 1.566925979174232,  accuracy - 0.7765372531418312\n"
     ]
    },
    {
     "data": {
      "text/plain": "Batches:   0%|          | 0/2507 [00:00<?, ?it/s]",
      "application/vnd.jupyter.widget-view+json": {
       "version_major": 2,
       "version_minor": 0,
       "model_id": "eff5a912a2a04c8b86a2fef01e5ae73c"
      }
     },
     "metadata": {},
     "output_type": "display_data"
    },
    {
     "name": "stdout",
     "output_type": "stream",
     "text": [
      "Training average loss - 0.018740740929526507, average accuracy - 0.9942397606134281\n"
     ]
    },
    {
     "data": {
      "text/plain": "Batches:   0%|          | 0/35 [00:00<?, ?it/s]",
      "application/vnd.jupyter.widget-view+json": {
       "version_major": 2,
       "version_minor": 0,
       "model_id": "adfd59cfefa14e48b4def243fb9a2dff"
      }
     },
     "metadata": {},
     "output_type": "display_data"
    },
    {
     "name": "stdout",
     "output_type": "stream",
     "text": [
      "Validation loss - 1.47253846009287,  accuracy - 0.779286355475763\n"
     ]
    },
    {
     "data": {
      "text/plain": "Batches:   0%|          | 0/2507 [00:00<?, ?it/s]",
      "application/vnd.jupyter.widget-view+json": {
       "version_major": 2,
       "version_minor": 0,
       "model_id": "38b39421c11449b6871f281e40dd5c76"
      }
     },
     "metadata": {},
     "output_type": "display_data"
    },
    {
     "name": "stdout",
     "output_type": "stream",
     "text": [
      "Training average loss - 0.017102883163277918, average accuracy - 0.9948880992456829\n"
     ]
    },
    {
     "data": {
      "text/plain": "Batches:   0%|          | 0/35 [00:00<?, ?it/s]",
      "application/vnd.jupyter.widget-view+json": {
       "version_major": 2,
       "version_minor": 0,
       "model_id": "b2cf82b3b2cb47978de3be00ff6e1962"
      }
     },
     "metadata": {},
     "output_type": "display_data"
    },
    {
     "name": "stdout",
     "output_type": "stream",
     "text": [
      "Validation loss - 1.5453898399479726,  accuracy - 0.7749663375224417\n"
     ]
    },
    {
     "data": {
      "text/plain": "Batches:   0%|          | 0/2507 [00:00<?, ?it/s]",
      "application/vnd.jupyter.widget-view+json": {
       "version_major": 2,
       "version_minor": 0,
       "model_id": "75876804081245dfb1b53f0f3105fbfc"
      }
     },
     "metadata": {},
     "output_type": "display_data"
    },
    {
     "name": "stdout",
     "output_type": "stream",
     "text": [
      "Training average loss - 0.016276717639739143, average accuracy - 0.995112524156848\n"
     ]
    },
    {
     "data": {
      "text/plain": "Batches:   0%|          | 0/35 [00:00<?, ?it/s]",
      "application/vnd.jupyter.widget-view+json": {
       "version_major": 2,
       "version_minor": 0,
       "model_id": "d442aaf8e83a47d6bacb998e308a22bb"
      }
     },
     "metadata": {},
     "output_type": "display_data"
    },
    {
     "name": "stdout",
     "output_type": "stream",
     "text": [
      "Validation loss - 1.6332485329098934,  accuracy - 0.7755273788150808\n"
     ]
    },
    {
     "data": {
      "text/plain": "Batches:   0%|          | 0/2507 [00:00<?, ?it/s]",
      "application/vnd.jupyter.widget-view+json": {
       "version_major": 2,
       "version_minor": 0,
       "model_id": "857901bbed434e5ea374d95e066b36f7"
      }
     },
     "metadata": {},
     "output_type": "display_data"
    },
    {
     "name": "stdout",
     "output_type": "stream",
     "text": [
      "Training average loss - 0.016072429254936196, average accuracy - 0.9949753756000249\n"
     ]
    },
    {
     "data": {
      "text/plain": "Batches:   0%|          | 0/35 [00:00<?, ?it/s]",
      "application/vnd.jupyter.widget-view+json": {
       "version_major": 2,
       "version_minor": 0,
       "model_id": "dcfe88111801486e882cf8f2a2ed218c"
      }
     },
     "metadata": {},
     "output_type": "display_data"
    },
    {
     "name": "stdout",
     "output_type": "stream",
     "text": [
      "Validation loss - 1.600509268377157,  accuracy - 0.7808011669658886\n"
     ]
    },
    {
     "data": {
      "text/plain": "Batches:   0%|          | 0/2507 [00:00<?, ?it/s]",
      "application/vnd.jupyter.widget-view+json": {
       "version_major": 2,
       "version_minor": 0,
       "model_id": "5b3c4ee0d3c74e6abee0c7544ce99604"
      }
     },
     "metadata": {},
     "output_type": "display_data"
    },
    {
     "name": "stdout",
     "output_type": "stream",
     "text": [
      "Training average loss - 0.01568220874701733, average accuracy - 0.9951374602580887\n"
     ]
    },
    {
     "data": {
      "text/plain": "Batches:   0%|          | 0/35 [00:00<?, ?it/s]",
      "application/vnd.jupyter.widget-view+json": {
       "version_major": 2,
       "version_minor": 0,
       "model_id": "7f1410b0ebfe4f899a7c4978ae18dd89"
      }
     },
     "metadata": {},
     "output_type": "display_data"
    },
    {
     "name": "stdout",
     "output_type": "stream",
     "text": [
      "Validation loss - 1.8652247736227148,  accuracy - 0.774685816876122\n"
     ]
    },
    {
     "data": {
      "text/plain": "Batches:   0%|          | 0/2507 [00:00<?, ?it/s]",
      "application/vnd.jupyter.widget-view+json": {
       "version_major": 2,
       "version_minor": 0,
       "model_id": "86589955d3d84c489acfb019b23a0701"
      }
     },
     "metadata": {},
     "output_type": "display_data"
    },
    {
     "name": "stdout",
     "output_type": "stream",
     "text": [
      "Training average loss - 0.016054078530553642, average accuracy - 0.995106290131538\n"
     ]
    },
    {
     "data": {
      "text/plain": "Batches:   0%|          | 0/35 [00:00<?, ?it/s]",
      "application/vnd.jupyter.widget-view+json": {
       "version_major": 2,
       "version_minor": 0,
       "model_id": "3c7d5f0f32a845db8aac7e4007a65fe1"
      }
     },
     "metadata": {},
     "output_type": "display_data"
    },
    {
     "name": "stdout",
     "output_type": "stream",
     "text": [
      "Validation loss - 1.6619046220231528,  accuracy - 0.7733393177737882\n"
     ]
    },
    {
     "data": {
      "text/plain": "Batches:   0%|          | 0/2507 [00:00<?, ?it/s]",
      "application/vnd.jupyter.widget-view+json": {
       "version_major": 2,
       "version_minor": 0,
       "model_id": "74f9174164c248dea5f0238001f6b40c"
      }
     },
     "metadata": {},
     "output_type": "display_data"
    },
    {
     "name": "stdout",
     "output_type": "stream",
     "text": [
      "Training average loss - 0.014806253894623646, average accuracy - 0.9954553955489059\n"
     ]
    },
    {
     "data": {
      "text/plain": "Batches:   0%|          | 0/35 [00:00<?, ?it/s]",
      "application/vnd.jupyter.widget-view+json": {
       "version_major": 2,
       "version_minor": 0,
       "model_id": "541f102cbf0a4d62abddbd797840a87c"
      }
     },
     "metadata": {},
     "output_type": "display_data"
    },
    {
     "name": "stdout",
     "output_type": "stream",
     "text": [
      "Validation loss - 1.7248533640986499,  accuracy - 0.7733393177737882\n"
     ]
    },
    {
     "data": {
      "text/plain": "Batches:   0%|          | 0/2507 [00:00<?, ?it/s]",
      "application/vnd.jupyter.widget-view+json": {
       "version_major": 2,
       "version_minor": 0,
       "model_id": "1647f4e4e7ab4aac90ac57324812750a"
      }
     },
     "metadata": {},
     "output_type": "display_data"
    },
    {
     "name": "stdout",
     "output_type": "stream",
     "text": [
      "Training average loss - 0.014468374403025105, average accuracy - 0.9956237142322798\n"
     ]
    },
    {
     "data": {
      "text/plain": "Batches:   0%|          | 0/35 [00:00<?, ?it/s]",
      "application/vnd.jupyter.widget-view+json": {
       "version_major": 2,
       "version_minor": 0,
       "model_id": "a6dab06d61c04fb9bbf1515aac641cd2"
      }
     },
     "metadata": {},
     "output_type": "display_data"
    },
    {
     "name": "stdout",
     "output_type": "stream",
     "text": [
      "Validation loss - 1.8030835049798715,  accuracy - 0.7751346499102334\n"
     ]
    },
    {
     "data": {
      "text/plain": "Batches:   0%|          | 0/2507 [00:00<?, ?it/s]",
      "application/vnd.jupyter.widget-view+json": {
       "version_major": 2,
       "version_minor": 0,
       "model_id": "c8ab8e1afa3142c698671155641947de"
      }
     },
     "metadata": {},
     "output_type": "display_data"
    },
    {
     "name": "stdout",
     "output_type": "stream",
     "text": [
      "Training average loss - 0.015099928012797845, average accuracy - 0.9954553955489059\n"
     ]
    },
    {
     "data": {
      "text/plain": "Batches:   0%|          | 0/35 [00:00<?, ?it/s]",
      "application/vnd.jupyter.widget-view+json": {
       "version_major": 2,
       "version_minor": 0,
       "model_id": "a21897641db34685bf9d472aa7dff3da"
      }
     },
     "metadata": {},
     "output_type": "display_data"
    },
    {
     "name": "stdout",
     "output_type": "stream",
     "text": [
      "Validation loss - 1.720333944745295,  accuracy - 0.776705565529623\n"
     ]
    },
    {
     "data": {
      "text/plain": "Batches:   0%|          | 0/2507 [00:00<?, ?it/s]",
      "application/vnd.jupyter.widget-view+json": {
       "version_major": 2,
       "version_minor": 0,
       "model_id": "5242a378f3fd464b9871aab655473739"
      }
     },
     "metadata": {},
     "output_type": "display_data"
    },
    {
     "name": "stdout",
     "output_type": "stream",
     "text": [
      "Training average loss - 0.013748228748864113, average accuracy - 0.9959229474471666\n"
     ]
    },
    {
     "data": {
      "text/plain": "Batches:   0%|          | 0/35 [00:00<?, ?it/s]",
      "application/vnd.jupyter.widget-view+json": {
       "version_major": 2,
       "version_minor": 0,
       "model_id": "b7fe420452fe4e4796469f7a5e1e5f12"
      }
     },
     "metadata": {},
     "output_type": "display_data"
    },
    {
     "name": "stdout",
     "output_type": "stream",
     "text": [
      "Validation loss - 1.7481420436068111,  accuracy - 0.7750785457809695\n"
     ]
    },
    {
     "data": {
      "text/plain": "Batches:   0%|          | 0/2507 [00:00<?, ?it/s]",
      "application/vnd.jupyter.widget-view+json": {
       "version_major": 2,
       "version_minor": 0,
       "model_id": "a2ffd2e8e37d433d9814fa4cd9dcf559"
      }
     },
     "metadata": {},
     "output_type": "display_data"
    },
    {
     "name": "stdout",
     "output_type": "stream",
     "text": [
      "Training average loss - 0.01459563936248205, average accuracy - 0.9954865656754567\n"
     ]
    },
    {
     "data": {
      "text/plain": "Batches:   0%|          | 0/35 [00:00<?, ?it/s]",
      "application/vnd.jupyter.widget-view+json": {
       "version_major": 2,
       "version_minor": 0,
       "model_id": "98648a1c9ec849b8b65b16ecb04a9cbc"
      }
     },
     "metadata": {},
     "output_type": "display_data"
    },
    {
     "name": "stdout",
     "output_type": "stream",
     "text": [
      "Validation loss - 1.720964283232629,  accuracy - 0.7684582585278277\n"
     ]
    },
    {
     "data": {
      "text/plain": "Batches:   0%|          | 0/2507 [00:00<?, ?it/s]",
      "application/vnd.jupyter.widget-view+json": {
       "version_major": 2,
       "version_minor": 0,
       "model_id": "1678d7e98cb24f3bab3cfdf5bef707b8"
      }
     },
     "metadata": {},
     "output_type": "display_data"
    },
    {
     "name": "stdout",
     "output_type": "stream",
     "text": [
      "Training average loss - 0.012833183594560538, average accuracy - 0.9960538619786796\n"
     ]
    },
    {
     "data": {
      "text/plain": "Batches:   0%|          | 0/35 [00:00<?, ?it/s]",
      "application/vnd.jupyter.widget-view+json": {
       "version_major": 2,
       "version_minor": 0,
       "model_id": "929ccc873c384c888063188280800121"
      }
     },
     "metadata": {},
     "output_type": "display_data"
    },
    {
     "name": "stdout",
     "output_type": "stream",
     "text": [
      "Validation loss - 1.7811413763669492,  accuracy - 0.7639138240574507\n"
     ]
    },
    {
     "data": {
      "text/plain": "Batches:   0%|          | 0/2507 [00:00<?, ?it/s]",
      "application/vnd.jupyter.widget-view+json": {
       "version_major": 2,
       "version_minor": 0,
       "model_id": "308b4819fb9b446d9ec1ed43a906337a"
      }
     },
     "metadata": {},
     "output_type": "display_data"
    },
    {
     "name": "stdout",
     "output_type": "stream",
     "text": [
      "Training average loss - 0.01310194043130134, average accuracy - 0.9960663300292999\n"
     ]
    },
    {
     "data": {
      "text/plain": "Batches:   0%|          | 0/35 [00:00<?, ?it/s]",
      "application/vnd.jupyter.widget-view+json": {
       "version_major": 2,
       "version_minor": 0,
       "model_id": "c77fc9c2114c4b0a8ee2fb3a31eda975"
      }
     },
     "metadata": {},
     "output_type": "display_data"
    },
    {
     "name": "stdout",
     "output_type": "stream",
     "text": [
      "Validation loss - 1.858366853458877,  accuracy - 0.7667190305206463\n"
     ]
    },
    {
     "data": {
      "text/plain": "Batches:   0%|          | 0/2507 [00:00<?, ?it/s]",
      "application/vnd.jupyter.widget-view+json": {
       "version_major": 2,
       "version_minor": 0,
       "model_id": "caabbc4acd8e449e9f7b50c77c6fb7f6"
      }
     },
     "metadata": {},
     "output_type": "display_data"
    },
    {
     "name": "stdout",
     "output_type": "stream",
     "text": [
      "Training average loss - 0.013915669283803271, average accuracy - 0.9957483947384826\n"
     ]
    },
    {
     "data": {
      "text/plain": "Batches:   0%|          | 0/35 [00:00<?, ?it/s]",
      "application/vnd.jupyter.widget-view+json": {
       "version_major": 2,
       "version_minor": 0,
       "model_id": "d24de117e6504457b9aac6ccdd9a5326"
      }
     },
     "metadata": {},
     "output_type": "display_data"
    },
    {
     "name": "stdout",
     "output_type": "stream",
     "text": [
      "Validation loss - 1.9187872752252986,  accuracy - 0.7707024236983842\n"
     ]
    },
    {
     "data": {
      "text/plain": "Batches:   0%|          | 0/2507 [00:00<?, ?it/s]",
      "application/vnd.jupyter.widget-view+json": {
       "version_major": 2,
       "version_minor": 0,
       "model_id": "bbc89ec129e64f76994a86a4b52126ab"
      }
     },
     "metadata": {},
     "output_type": "display_data"
    },
    {
     "name": "stdout",
     "output_type": "stream",
     "text": [
      "Training average loss - 0.013248868737167643, average accuracy - 0.9959915217255783\n"
     ]
    },
    {
     "data": {
      "text/plain": "Batches:   0%|          | 0/35 [00:00<?, ?it/s]",
      "application/vnd.jupyter.widget-view+json": {
       "version_major": 2,
       "version_minor": 0,
       "model_id": "397dcbe9bf904e74a241d0c44c158368"
      }
     },
     "metadata": {},
     "output_type": "display_data"
    },
    {
     "name": "stdout",
     "output_type": "stream",
     "text": [
      "Validation loss - 1.9211568267383952,  accuracy - 0.7805206463195691\n"
     ]
    },
    {
     "data": {
      "text/plain": "Batches:   0%|          | 0/2507 [00:00<?, ?it/s]",
      "application/vnd.jupyter.widget-view+json": {
       "version_major": 2,
       "version_minor": 0,
       "model_id": "695dc0547d5b4319b9b4b7b139a85fee"
      }
     },
     "metadata": {},
     "output_type": "display_data"
    },
    {
     "name": "stdout",
     "output_type": "stream",
     "text": [
      "Training average loss - 0.013005955973032498, average accuracy - 0.9958481391434449\n"
     ]
    },
    {
     "data": {
      "text/plain": "Batches:   0%|          | 0/35 [00:00<?, ?it/s]",
      "application/vnd.jupyter.widget-view+json": {
       "version_major": 2,
       "version_minor": 0,
       "model_id": "3a64df107cd04b81bef52004ecdf2c68"
      }
     },
     "metadata": {},
     "output_type": "display_data"
    },
    {
     "name": "stdout",
     "output_type": "stream",
     "text": [
      "Validation loss - 1.8197647183330954,  accuracy - 0.7765933572710951\n"
     ]
    },
    {
     "data": {
      "text/plain": "Batches:   0%|          | 0/2507 [00:00<?, ?it/s]",
      "application/vnd.jupyter.widget-view+json": {
       "version_major": 2,
       "version_minor": 0,
       "model_id": "b54a741917ff4d349cb00d0366234fb8"
      }
     },
     "metadata": {},
     "output_type": "display_data"
    },
    {
     "name": "stdout",
     "output_type": "stream",
     "text": [
      "Training average loss - 0.012403340601649621, average accuracy - 0.9962533507886042\n"
     ]
    },
    {
     "data": {
      "text/plain": "Batches:   0%|          | 0/35 [00:00<?, ?it/s]",
      "application/vnd.jupyter.widget-view+json": {
       "version_major": 2,
       "version_minor": 0,
       "model_id": "6265e3deaa214ed687ac42dbf68f4d71"
      }
     },
     "metadata": {},
     "output_type": "display_data"
    },
    {
     "name": "stdout",
     "output_type": "stream",
     "text": [
      "Validation loss - 2.081087594828443,  accuracy - 0.7732271095152603\n"
     ]
    },
    {
     "data": {
      "text/plain": "Batches:   0%|          | 0/2507 [00:00<?, ?it/s]",
      "application/vnd.jupyter.widget-view+json": {
       "version_major": 2,
       "version_minor": 0,
       "model_id": "5d4e6c4a9eae4d7dbcab36cd4db64a8f"
      }
     },
     "metadata": {},
     "output_type": "display_data"
    },
    {
     "name": "stdout",
     "output_type": "stream",
     "text": [
      "Training average loss - 0.01225609118002456, average accuracy - 0.9961847765101927\n"
     ]
    },
    {
     "data": {
      "text/plain": "Batches:   0%|          | 0/35 [00:00<?, ?it/s]",
      "application/vnd.jupyter.widget-view+json": {
       "version_major": 2,
       "version_minor": 0,
       "model_id": "1fa8299d69cd4fd5ac872e91f0e26766"
      }
     },
     "metadata": {},
     "output_type": "display_data"
    },
    {
     "name": "stdout",
     "output_type": "stream",
     "text": [
      "Validation loss - 1.9273634303622014,  accuracy - 0.7765933572710951\n"
     ]
    },
    {
     "data": {
      "text/plain": "Batches:   0%|          | 0/2507 [00:00<?, ?it/s]",
      "application/vnd.jupyter.widget-view+json": {
       "version_major": 2,
       "version_minor": 0,
       "model_id": "cd13437f04e4466a886b801017bb04dc"
      }
     },
     "metadata": {},
     "output_type": "display_data"
    },
    {
     "name": "stdout",
     "output_type": "stream",
     "text": [
      "Training average loss - 0.013805500324055258, average accuracy - 0.9956860544853812\n"
     ]
    },
    {
     "data": {
      "text/plain": "Batches:   0%|          | 0/35 [00:00<?, ?it/s]",
      "application/vnd.jupyter.widget-view+json": {
       "version_major": 2,
       "version_minor": 0,
       "model_id": "e56c8627db5c4ca482a07683c10a5c89"
      }
     },
     "metadata": {},
     "output_type": "display_data"
    },
    {
     "name": "stdout",
     "output_type": "stream",
     "text": [
      "Validation loss - 1.9819388702056995,  accuracy - 0.7744052962298025\n"
     ]
    },
    {
     "data": {
      "text/plain": "Batches:   0%|          | 0/2507 [00:00<?, ?it/s]",
      "application/vnd.jupyter.widget-view+json": {
       "version_major": 2,
       "version_minor": 0,
       "model_id": "df0808c9b64e4781814661d1a7444080"
      }
     },
     "metadata": {},
     "output_type": "display_data"
    },
    {
     "name": "stdout",
     "output_type": "stream",
     "text": [
      "Training average loss - 0.010765461136077091, average accuracy - 0.9968455831930678\n"
     ]
    },
    {
     "data": {
      "text/plain": "Batches:   0%|          | 0/35 [00:00<?, ?it/s]",
      "application/vnd.jupyter.widget-view+json": {
       "version_major": 2,
       "version_minor": 0,
       "model_id": "7c779328d45640c1b1f9157d1a4274c1"
      }
     },
     "metadata": {},
     "output_type": "display_data"
    },
    {
     "name": "stdout",
     "output_type": "stream",
     "text": [
      "Validation loss - 1.8941944189088777,  accuracy - 0.7687948833034112\n"
     ]
    },
    {
     "data": {
      "text/plain": "Batches:   0%|          | 0/2507 [00:00<?, ?it/s]",
      "application/vnd.jupyter.widget-view+json": {
       "version_major": 2,
       "version_minor": 0,
       "model_id": "9f60b110b34641fb93eeee301bafd77c"
      }
     },
     "metadata": {},
     "output_type": "display_data"
    },
    {
     "name": "stdout",
     "output_type": "stream",
     "text": [
      "Training average loss - 0.01189369089351499, average accuracy - 0.996247116763294\n"
     ]
    },
    {
     "data": {
      "text/plain": "Batches:   0%|          | 0/35 [00:00<?, ?it/s]",
      "application/vnd.jupyter.widget-view+json": {
       "version_major": 2,
       "version_minor": 0,
       "model_id": "1b278c0499e24d03aa3c8a3799b0cdca"
      }
     },
     "metadata": {},
     "output_type": "display_data"
    },
    {
     "name": "stdout",
     "output_type": "stream",
     "text": [
      "Validation loss - 1.942280463727201,  accuracy - 0.7729465888689407\n"
     ]
    }
   ],
   "source": [
    "train(model, dataloaders, criteria, optimizer, device=device, stats=stats, epochs=50)"
   ],
   "metadata": {
    "collapsed": false
   }
  },
  {
   "cell_type": "code",
   "execution_count": 28,
   "outputs": [],
   "source": [
    "def fetch_json(path: str) -> dict:\n",
    "    with open(path, \"r\") as file:\n",
    "        json_file = json.load(file)\n",
    "        file.close()\n",
    "    return json_file\n",
    "\n",
    "\n",
    "def save_json(json_dict: dict, path: str):\n",
    "    with open(path, \"w\") as file:\n",
    "        json.dump(json_dict, file)\n",
    "        file.close()"
   ],
   "metadata": {
    "collapsed": false
   }
  },
  {
   "cell_type": "code",
   "execution_count": 29,
   "outputs": [],
   "source": [
    "result_dict = {model.__class__.__name__: stats}\n",
    "save_json(result_dict, \"stats.json\")"
   ],
   "metadata": {
    "collapsed": false
   }
  },
  {
   "cell_type": "code",
   "execution_count": 30,
   "outputs": [
    {
     "data": {
      "text/plain": "<Figure size 640x480 with 3 Axes>",
      "image/png": "[encoded data removed]"
     },
     "metadata": {},
     "output_type": "display_data"
    }
   ],
   "source": [
    "fig, (ax1, ax2, ax3) = plt.subplots(nrows=1, ncols=3)\n",
    "for k, v in result_dict.items():\n",
    "    ax1.plot(v[\"train\"][\"loss\"], label=f\"{k} train\")\n",
    "\n",
    "    ax2.plot(v['train']['accuracy'], label=f'{k} train')\n",
    "    ax3.plot(v['validation']['accuracy'], label=f'{k} validation')\n",
    "\n",
    "ax1.set_title('Loss')\n",
    "ax2.set_title('Train Accuracy')\n",
    "ax3.set_title('Validation Accuracy')\n",
    "plt.legend()\n",
    "plt.show()\n"
   ],
   "metadata": {
    "collapsed": false
   }
  },
  {
   "cell_type": "code",
   "execution_count": 31,
   "outputs": [],
   "source": [
    "torch.save(\n",
    "    {\n",
    "        'epochs': 50,\n",
    "        'model_state_dict': model.state_dict(),\n",
    "        'optimizer_state_dict': optimizer.state_dict()\n",
    "    },\n",
    "    os.path.join(\"weights\", f'{model.__class__.__name__}.pt'))"
   ],
   "metadata": {
    "collapsed": false
   }
  },
  {
   "cell_type": "markdown",
   "source": [
    "We trained this model but as we can see, the model performs not so well on validation set.\n",
    "Next thing we should do is to fix it. There are a few options - take the model and fully retrain it with new (augmented data) or try to train only on augmented data.\n",
    "I choose the last."
   ],
   "metadata": {
    "collapsed": false
   }
  },
  {
   "cell_type": "markdown",
   "source": [
    "# Improving NN\n",
    "Loading trained model"
   ],
   "metadata": {
    "collapsed": false
   }
  },
  {
   "cell_type": "code",
   "execution_count": 32,
   "outputs": [],
   "source": [
    "device = torch.device('cuda' if torch.cuda.is_available() else 'cpu')\n",
    "checkpoint = torch.load(os.path.join(\"weights\", \"CD2Conv.pt\"))\n",
    "model = CD2Conv().to(device)\n",
    "model.load_state_dict(checkpoint['model_state_dict'])\n",
    "optimizer = Adam(model.parameters(), lr=1e-4)\n",
    "optimizer.load_state_dict(checkpoint['optimizer_state_dict'])\n",
    "criteria = nn.BCEWithLogitsLoss()"
   ],
   "metadata": {
    "collapsed": false
   }
  },
  {
   "cell_type": "markdown",
   "source": [
    "Define another data transformations for the dataset."
   ],
   "metadata": {
    "collapsed": false
   }
  },
  {
   "cell_type": "code",
   "execution_count": 33,
   "outputs": [],
   "source": [
    "augmented_transforms = transforms.Compose(\n",
    "    [\n",
    "        transforms.RandomHorizontalFlip(p=0.4),\n",
    "        transforms.RandomVerticalFlip(p=0.4),\n",
    "        transforms.RandomRotation(degrees=45),\n",
    "        transforms.CenterCrop(CENTER_SIZE),\n",
    "        transforms.ToTensor(),\n",
    "        transforms.Normalize(mean=[0.485, 0.456, 0.406],\n",
    "                             std=[0.229, 0.224, 0.225])\n",
    "\n",
    "    ]\n",
    ")"
   ],
   "metadata": {
    "collapsed": false
   }
  },
  {
   "cell_type": "code",
   "execution_count": 34,
   "outputs": [
    {
     "name": "stdout",
     "output_type": "stream",
     "text": [
      "Converting images to tensors...\n"
     ]
    },
    {
     "data": {
      "text/plain": "  0%|          | 0/178234 [00:00<?, ?it/s]",
      "application/vnd.jupyter.widget-view+json": {
       "version_major": 2,
       "version_minor": 0,
       "model_id": "c8e9011541c74553990d3d184c3a9025"
      }
     },
     "metadata": {},
     "output_type": "display_data"
    },
    {
     "name": "stdout",
     "output_type": "stream",
     "text": [
      "The dataset is ready for use.\n"
     ]
    }
   ],
   "source": [
    "dataset = HistopathologicCancerDS(balanced_train_df, transform=augmented_transforms)"
   ],
   "metadata": {
    "collapsed": false
   }
  },
  {
   "cell_type": "code",
   "execution_count": 35,
   "outputs": [
    {
     "name": "stderr",
     "output_type": "stream",
     "text": [
      "Clipping input data to the valid range for imshow with RGB data ([0..1] for floats or [0..255] for integers).\n"
     ]
    },
    {
     "name": "stdout",
     "output_type": "stream",
     "text": [
      "label: 0\n"
     ]
    },
    {
     "data": {
      "text/plain": "<Figure size 640x480 with 1 Axes>",
      "image/png": "[encoded data removed]"
     },
     "metadata": {},
     "output_type": "display_data"
    }
   ],
   "source": [
    "random_sample = dataset[np.random.randint(0, len(dataset))]\n",
    "print(f\"label: {random_sample[1]}\")\n",
    "image2plot(random_sample[0])"
   ],
   "metadata": {
    "collapsed": false
   }
  },
  {
   "cell_type": "code",
   "execution_count": 36,
   "outputs": [],
   "source": [
    "ds_len = len(dataset)\n",
    "train_size = int(0.9 * ds_len)\n",
    "validation_size = ds_len - train_size\n",
    "train_ds, validation_ds = random_split(dataset, [train_size, validation_size])\n",
    "train_dl = DataLoader(train_ds, batch_size=BATCH_SIZE, shuffle=True)\n",
    "validation_dl = DataLoader(validation_ds, batch_size=VALIDATION_BATCH_SIZE, shuffle=True)\n",
    "dataloaders = {\n",
    "    'train': train_dl,\n",
    "    'validation': validation_dl\n",
    "}\n",
    "\n",
    "stats = {\n",
    "    'train': {\n",
    "        'loss': [],\n",
    "        'accuracy': []\n",
    "    },\n",
    "    'validation': {\n",
    "        'loss': [],\n",
    "        'accuracy': []\n",
    "    }\n",
    "}"
   ],
   "metadata": {
    "collapsed": false
   }
  },
  {
   "cell_type": "code",
   "execution_count": 37,
   "outputs": [
    {
     "name": "stdout",
     "output_type": "stream",
     "text": [
      "Epochs\n"
     ]
    },
    {
     "data": {
      "text/plain": "Epochs:   0%|          | 0/50 [00:00<?, ?it/s]",
      "application/vnd.jupyter.widget-view+json": {
       "version_major": 2,
       "version_minor": 0,
       "model_id": "a86b5258efd243619ee2a94feaf7829f"
      }
     },
     "metadata": {},
     "output_type": "display_data"
    },
    {
     "data": {
      "text/plain": "Batches:   0%|          | 0/2507 [00:00<?, ?it/s]",
      "application/vnd.jupyter.widget-view+json": {
       "version_major": 2,
       "version_minor": 0,
       "model_id": "d137fddff61f4268905c8774bdf3e6ff"
      }
     },
     "metadata": {},
     "output_type": "display_data"
    },
    {
     "name": "stdout",
     "output_type": "stream",
     "text": [
      "Training average loss - 0.4616522461107177, average accuracy - 0.7958543731687551\n"
     ]
    },
    {
     "data": {
      "text/plain": "Batches:   0%|          | 0/35 [00:00<?, ?it/s]",
      "application/vnd.jupyter.widget-view+json": {
       "version_major": 2,
       "version_minor": 0,
       "model_id": "9a634046f36344c191efaa17d2f814d7"
      }
     },
     "metadata": {},
     "output_type": "display_data"
    },
    {
     "name": "stdout",
     "output_type": "stream",
     "text": [
      "Validation loss - 0.42207829501727323,  accuracy - 0.809245960502693\n"
     ]
    },
    {
     "data": {
      "text/plain": "Batches:   0%|          | 0/2507 [00:00<?, ?it/s]",
      "application/vnd.jupyter.widget-view+json": {
       "version_major": 2,
       "version_minor": 0,
       "model_id": "6d8791b0cc3f469e88b45cd4c1519dc9"
      }
     },
     "metadata": {},
     "output_type": "display_data"
    },
    {
     "name": "stdout",
     "output_type": "stream",
     "text": [
      "Training average loss - 0.38890310485875335, average accuracy - 0.8256717162271678\n"
     ]
    },
    {
     "data": {
      "text/plain": "Batches:   0%|          | 0/35 [00:00<?, ?it/s]",
      "application/vnd.jupyter.widget-view+json": {
       "version_major": 2,
       "version_minor": 0,
       "model_id": "16beec55a7a04bb9ba60ff3576d3e055"
      }
     },
     "metadata": {},
     "output_type": "display_data"
    },
    {
     "name": "stdout",
     "output_type": "stream",
     "text": [
      "Validation loss - 0.4152240875165381,  accuracy - 0.8136781867145422\n"
     ]
    },
    {
     "data": {
      "text/plain": "Batches:   0%|          | 0/2507 [00:00<?, ?it/s]",
      "application/vnd.jupyter.widget-view+json": {
       "version_major": 2,
       "version_minor": 0,
       "model_id": "bb17b8831078409aab21816e120b5240"
      }
     },
     "metadata": {},
     "output_type": "display_data"
    },
    {
     "name": "stdout",
     "output_type": "stream",
     "text": [
      "Training average loss - 0.33218655948418646, average accuracy - 0.855719718222056\n"
     ]
    },
    {
     "data": {
      "text/plain": "Batches:   0%|          | 0/35 [00:00<?, ?it/s]",
      "application/vnd.jupyter.widget-view+json": {
       "version_major": 2,
       "version_minor": 0,
       "model_id": "5ec8f0f4ea6c4cf38351fcf99e1a1d4d"
      }
     },
     "metadata": {},
     "output_type": "display_data"
    },
    {
     "name": "stdout",
     "output_type": "stream",
     "text": [
      "Validation loss - 0.424630763233243,  accuracy - 0.8098631059245961\n"
     ]
    },
    {
     "data": {
      "text/plain": "Batches:   0%|          | 0/2507 [00:00<?, ?it/s]",
      "application/vnd.jupyter.widget-view+json": {
       "version_major": 2,
       "version_minor": 0,
       "model_id": "954ed98a568d4ead8f4bbe6b73d2f2d4"
      }
     },
     "metadata": {},
     "output_type": "display_data"
    },
    {
     "name": "stdout",
     "output_type": "stream",
     "text": [
      "Training average loss - 0.2503094063967617, average accuracy - 0.8985350040521165\n"
     ]
    },
    {
     "data": {
      "text/plain": "Batches:   0%|          | 0/35 [00:00<?, ?it/s]",
      "application/vnd.jupyter.widget-view+json": {
       "version_major": 2,
       "version_minor": 0,
       "model_id": "beaee978b0dd4065a6c3a8310c9157f2"
      }
     },
     "metadata": {},
     "output_type": "display_data"
    },
    {
     "name": "stdout",
     "output_type": "stream",
     "text": [
      "Validation loss - 0.4800647866362087,  accuracy - 0.8039160682226212\n"
     ]
    },
    {
     "data": {
      "text/plain": "Batches:   0%|          | 0/2507 [00:00<?, ?it/s]",
      "application/vnd.jupyter.widget-view+json": {
       "version_major": 2,
       "version_minor": 0,
       "model_id": "d019412a2491493abc1dd2650f10edb7"
      }
     },
     "metadata": {},
     "output_type": "display_data"
    },
    {
     "name": "stdout",
     "output_type": "stream",
     "text": [
      "Training average loss - 0.15904305391917017, average accuracy - 0.9433514120067328\n"
     ]
    },
    {
     "data": {
      "text/plain": "Batches:   0%|          | 0/35 [00:00<?, ?it/s]",
      "application/vnd.jupyter.widget-view+json": {
       "version_major": 2,
       "version_minor": 0,
       "model_id": "97fc1ecb55f84b6ab4bfdf27f63aadba"
      }
     },
     "metadata": {},
     "output_type": "display_data"
    },
    {
     "name": "stdout",
     "output_type": "stream",
     "text": [
      "Validation loss - 0.5499018559122,  accuracy - 0.7977446140035906\n"
     ]
    },
    {
     "data": {
      "text/plain": "Batches:   0%|          | 0/2507 [00:00<?, ?it/s]",
      "application/vnd.jupyter.widget-view+json": {
       "version_major": 2,
       "version_minor": 0,
       "model_id": "90fc404e7213430ea99836c044bd8f14"
      }
     },
     "metadata": {},
     "output_type": "display_data"
    },
    {
     "name": "stdout",
     "output_type": "stream",
     "text": [
      "Training average loss - 0.08718518022196778, average accuracy - 0.9743095816969017\n"
     ]
    },
    {
     "data": {
      "text/plain": "Batches:   0%|          | 0/35 [00:00<?, ?it/s]",
      "application/vnd.jupyter.widget-view+json": {
       "version_major": 2,
       "version_minor": 0,
       "model_id": "72f85e6fac2f4ca98caa11f3f7b319e9"
      }
     },
     "metadata": {},
     "output_type": "display_data"
    },
    {
     "name": "stdout",
     "output_type": "stream",
     "text": [
      "Validation loss - 0.6818579404315572,  accuracy - 0.7873653500897666\n"
     ]
    },
    {
     "data": {
      "text/plain": "Batches:   0%|          | 0/2507 [00:00<?, ?it/s]",
      "application/vnd.jupyter.widget-view+json": {
       "version_major": 2,
       "version_minor": 0,
       "model_id": "e593d94a5dd84671af7b8bed66c7fa99"
      }
     },
     "metadata": {},
     "output_type": "display_data"
    },
    {
     "name": "stdout",
     "output_type": "stream",
     "text": [
      "Training average loss - 0.04808601540878585, average accuracy - 0.9874446730253725\n"
     ]
    },
    {
     "data": {
      "text/plain": "Batches:   0%|          | 0/35 [00:00<?, ?it/s]",
      "application/vnd.jupyter.widget-view+json": {
       "version_major": 2,
       "version_minor": 0,
       "model_id": "74f95e302bd34c4d8284827dd9426ed2"
      }
     },
     "metadata": {},
     "output_type": "display_data"
    },
    {
     "name": "stdout",
     "output_type": "stream",
     "text": [
      "Validation loss - 0.8058381887483853,  accuracy - 0.7855139138240574\n"
     ]
    },
    {
     "data": {
      "text/plain": "Batches:   0%|          | 0/2507 [00:00<?, ?it/s]",
      "application/vnd.jupyter.widget-view+json": {
       "version_major": 2,
       "version_minor": 0,
       "model_id": "d6fe128320c74e89bd701a703b76686c"
      }
     },
     "metadata": {},
     "output_type": "display_data"
    },
    {
     "name": "stdout",
     "output_type": "stream",
     "text": [
      "Training average loss - 0.03217463021189092, average accuracy - 0.9917586185399913\n"
     ]
    },
    {
     "data": {
      "text/plain": "Batches:   0%|          | 0/35 [00:00<?, ?it/s]",
      "application/vnd.jupyter.widget-view+json": {
       "version_major": 2,
       "version_minor": 0,
       "model_id": "c75d8e931d5046dd89a105e2de5172ab"
      }
     },
     "metadata": {},
     "output_type": "display_data"
    },
    {
     "name": "stdout",
     "output_type": "stream",
     "text": [
      "Validation loss - 0.964031009100498,  accuracy - 0.7887679533213644\n"
     ]
    },
    {
     "data": {
      "text/plain": "Batches:   0%|          | 0/2507 [00:00<?, ?it/s]",
      "application/vnd.jupyter.widget-view+json": {
       "version_major": 2,
       "version_minor": 0,
       "model_id": "badd94646bad43a5aef39be35f32199a"
      }
     },
     "metadata": {},
     "output_type": "display_data"
    },
    {
     "name": "stdout",
     "output_type": "stream",
     "text": [
      "Training average loss - 0.025485477064400085, average accuracy - 0.9932672526650458\n"
     ]
    },
    {
     "data": {
      "text/plain": "Batches:   0%|          | 0/35 [00:00<?, ?it/s]",
      "application/vnd.jupyter.widget-view+json": {
       "version_major": 2,
       "version_minor": 0,
       "model_id": "df84a1b5e66840a48e88fec13c6f1d91"
      }
     },
     "metadata": {},
     "output_type": "display_data"
    },
    {
     "name": "stdout",
     "output_type": "stream",
     "text": [
      "Validation loss - 0.9925345285148552,  accuracy - 0.7869165170556554\n"
     ]
    },
    {
     "data": {
      "text/plain": "Batches:   0%|          | 0/2507 [00:00<?, ?it/s]",
      "application/vnd.jupyter.widget-view+json": {
       "version_major": 2,
       "version_minor": 0,
       "model_id": "f65feb2912284e5fa4be9629a10883ea"
      }
     },
     "metadata": {},
     "output_type": "display_data"
    },
    {
     "name": "stdout",
     "output_type": "stream",
     "text": [
      "Training average loss - 0.02366567764209279, average accuracy - 0.9934729755002806\n"
     ]
    },
    {
     "data": {
      "text/plain": "Batches:   0%|          | 0/35 [00:00<?, ?it/s]",
      "application/vnd.jupyter.widget-view+json": {
       "version_major": 2,
       "version_minor": 0,
       "model_id": "a26f8448a2f74c1daf6c091bea8a6c72"
      }
     },
     "metadata": {},
     "output_type": "display_data"
    },
    {
     "name": "stdout",
     "output_type": "stream",
     "text": [
      "Validation loss - 1.0999235658500095,  accuracy - 0.7889923698384201\n"
     ]
    },
    {
     "data": {
      "text/plain": "Batches:   0%|          | 0/2507 [00:00<?, ?it/s]",
      "application/vnd.jupyter.widget-view+json": {
       "version_major": 2,
       "version_minor": 0,
       "model_id": "17c855fd63f44ab58fde5c3bc1cfc76d"
      }
     },
     "metadata": {},
     "output_type": "display_data"
    },
    {
     "name": "stdout",
     "output_type": "stream",
     "text": [
      "Training average loss - 0.020709823891202336, average accuracy - 0.9942023564615672\n"
     ]
    },
    {
     "data": {
      "text/plain": "Batches:   0%|          | 0/35 [00:00<?, ?it/s]",
      "application/vnd.jupyter.widget-view+json": {
       "version_major": 2,
       "version_minor": 0,
       "model_id": "bb543727d7a64e308a218664da313bf5"
      }
     },
     "metadata": {},
     "output_type": "display_data"
    },
    {
     "name": "stdout",
     "output_type": "stream",
     "text": [
      "Validation loss - 1.1505071699512284,  accuracy - 0.7638577199281867\n"
     ]
    },
    {
     "data": {
      "text/plain": "Batches:   0%|          | 0/2507 [00:00<?, ?it/s]",
      "application/vnd.jupyter.widget-view+json": {
       "version_major": 2,
       "version_minor": 0,
       "model_id": "d6e7c8177c0743819bee5d8c37ed06a9"
      }
     },
     "metadata": {},
     "output_type": "display_data"
    },
    {
     "name": "stdout",
     "output_type": "stream",
     "text": [
      "Training average loss - 0.01807495513615657, average accuracy - 0.9948818652203728\n"
     ]
    },
    {
     "data": {
      "text/plain": "Batches:   0%|          | 0/35 [00:00<?, ?it/s]",
      "application/vnd.jupyter.widget-view+json": {
       "version_major": 2,
       "version_minor": 0,
       "model_id": "a517c0a381094376af427e8c3696b9a8"
      }
     },
     "metadata": {},
     "output_type": "display_data"
    },
    {
     "name": "stdout",
     "output_type": "stream",
     "text": [
      "Validation loss - 1.134824582875524,  accuracy - 0.7796229802513465\n"
     ]
    },
    {
     "data": {
      "text/plain": "Batches:   0%|          | 0/2507 [00:00<?, ?it/s]",
      "application/vnd.jupyter.widget-view+json": {
       "version_major": 2,
       "version_minor": 0,
       "model_id": "0e376717f1e444e993590a416b5603d8"
      }
     },
     "metadata": {},
     "output_type": "display_data"
    },
    {
     "name": "stdout",
     "output_type": "stream",
     "text": [
      "Training average loss - 0.017498884474919953, average accuracy - 0.9949255033975438\n"
     ]
    },
    {
     "data": {
      "text/plain": "Batches:   0%|          | 0/35 [00:00<?, ?it/s]",
      "application/vnd.jupyter.widget-view+json": {
       "version_major": 2,
       "version_minor": 0,
       "model_id": "992d840b9de94ef8b8aaa77b461576c8"
      }
     },
     "metadata": {},
     "output_type": "display_data"
    },
    {
     "name": "stdout",
     "output_type": "stream",
     "text": [
      "Validation loss - 1.4066120608704737,  accuracy - 0.7905071813285458\n"
     ]
    },
    {
     "data": {
      "text/plain": "Batches:   0%|          | 0/2507 [00:00<?, ?it/s]",
      "application/vnd.jupyter.widget-view+json": {
       "version_major": 2,
       "version_minor": 0,
       "model_id": "be92b253da8b46a2a77a521695ce13cd"
      }
     },
     "metadata": {},
     "output_type": "display_data"
    },
    {
     "name": "stdout",
     "output_type": "stream",
     "text": [
      "Training average loss - 0.01764044659605871, average accuracy - 0.9949317374228539\n"
     ]
    },
    {
     "data": {
      "text/plain": "Batches:   0%|          | 0/35 [00:00<?, ?it/s]",
      "application/vnd.jupyter.widget-view+json": {
       "version_major": 2,
       "version_minor": 0,
       "model_id": "3931311a3fe345c8a4ff09e7c975aef5"
      }
     },
     "metadata": {},
     "output_type": "display_data"
    },
    {
     "name": "stdout",
     "output_type": "stream",
     "text": [
      "Validation loss - 1.228731991786717,  accuracy - 0.7839991023339318\n"
     ]
    },
    {
     "data": {
      "text/plain": "Batches:   0%|          | 0/2507 [00:00<?, ?it/s]",
      "application/vnd.jupyter.widget-view+json": {
       "version_major": 2,
       "version_minor": 0,
       "model_id": "9ac3ddb5a5304822b2b09edadd224d20"
      }
     },
     "metadata": {},
     "output_type": "display_data"
    },
    {
     "name": "stdout",
     "output_type": "stream",
     "text": [
      "Training average loss - 0.01350658589856012, average accuracy - 0.9961224362570912\n"
     ]
    },
    {
     "data": {
      "text/plain": "Batches:   0%|          | 0/35 [00:00<?, ?it/s]",
      "application/vnd.jupyter.widget-view+json": {
       "version_major": 2,
       "version_minor": 0,
       "model_id": "457916bad1414e84afeae762124569e4"
      }
     },
     "metadata": {},
     "output_type": "display_data"
    },
    {
     "name": "stdout",
     "output_type": "stream",
     "text": [
      "Validation loss - 1.2561344327789663,  accuracy - 0.7802401256732495\n"
     ]
    },
    {
     "data": {
      "text/plain": "Batches:   0%|          | 0/2507 [00:00<?, ?it/s]",
      "application/vnd.jupyter.widget-view+json": {
       "version_major": 2,
       "version_minor": 0,
       "model_id": "77fa0e13df284efb9676685cde2a639d"
      }
     },
     "metadata": {},
     "output_type": "display_data"
    },
    {
     "name": "stdout",
     "output_type": "stream",
     "text": [
      "Training average loss - 0.015664738071674247, average accuracy - 0.9954553955489059\n"
     ]
    },
    {
     "data": {
      "text/plain": "Batches:   0%|          | 0/35 [00:00<?, ?it/s]",
      "application/vnd.jupyter.widget-view+json": {
       "version_major": 2,
       "version_minor": 0,
       "model_id": "8e19dff438474f92b34a30603f45d2d0"
      }
     },
     "metadata": {},
     "output_type": "display_data"
    },
    {
     "name": "stdout",
     "output_type": "stream",
     "text": [
      "Validation loss - 1.3624875427790561,  accuracy - 0.7745175044883303\n"
     ]
    },
    {
     "data": {
      "text/plain": "Batches:   0%|          | 0/2507 [00:00<?, ?it/s]",
      "application/vnd.jupyter.widget-view+json": {
       "version_major": 2,
       "version_minor": 0,
       "model_id": "0a34e1192aaa4406b094a2a66c38f7f6"
      }
     },
     "metadata": {},
     "output_type": "display_data"
    },
    {
     "name": "stdout",
     "output_type": "stream",
     "text": [
      "Training average loss - 0.01335821589203033, average accuracy - 0.9961910105355027\n"
     ]
    },
    {
     "data": {
      "text/plain": "Batches:   0%|          | 0/35 [00:00<?, ?it/s]",
      "application/vnd.jupyter.widget-view+json": {
       "version_major": 2,
       "version_minor": 0,
       "model_id": "9ee01a3c579d492bb4f86e2776c7607f"
      }
     },
     "metadata": {},
     "output_type": "display_data"
    },
    {
     "name": "stdout",
     "output_type": "stream",
     "text": [
      "Validation loss - 1.2519061871448154,  accuracy - 0.7754712746858169\n"
     ]
    },
    {
     "data": {
      "text/plain": "Batches:   0%|          | 0/2507 [00:00<?, ?it/s]",
      "application/vnd.jupyter.widget-view+json": {
       "version_major": 2,
       "version_minor": 0,
       "model_id": "5f130d2d0c884876ba0b9f43f988ce97"
      }
     },
     "metadata": {},
     "output_type": "display_data"
    },
    {
     "name": "stdout",
     "output_type": "stream",
     "text": [
      "Training average loss - 0.013344848867112498, average accuracy - 0.9961847765101927\n"
     ]
    },
    {
     "data": {
      "text/plain": "Batches:   0%|          | 0/35 [00:00<?, ?it/s]",
      "application/vnd.jupyter.widget-view+json": {
       "version_major": 2,
       "version_minor": 0,
       "model_id": "8cbd82e581304875bacc7318fade8806"
      }
     },
     "metadata": {},
     "output_type": "display_data"
    },
    {
     "name": "stdout",
     "output_type": "stream",
     "text": [
      "Validation loss - 1.4188213095844755,  accuracy - 0.7786131059245961\n"
     ]
    },
    {
     "data": {
      "text/plain": "Batches:   0%|          | 0/2507 [00:00<?, ?it/s]",
      "application/vnd.jupyter.widget-view+json": {
       "version_major": 2,
       "version_minor": 0,
       "model_id": "54b4287a405248cb85759a3daff1f530"
      }
     },
     "metadata": {},
     "output_type": "display_data"
    },
    {
     "name": "stdout",
     "output_type": "stream",
     "text": [
      "Training average loss - 0.013331421031109484, average accuracy - 0.9960600960039898\n"
     ]
    },
    {
     "data": {
      "text/plain": "Batches:   0%|          | 0/35 [00:00<?, ?it/s]",
      "application/vnd.jupyter.widget-view+json": {
       "version_major": 2,
       "version_minor": 0,
       "model_id": "fdba72ce73024a9b81201d86a850e1a9"
      }
     },
     "metadata": {},
     "output_type": "display_data"
    },
    {
     "name": "stdout",
     "output_type": "stream",
     "text": [
      "Validation loss - 1.5443453016144155,  accuracy - 0.78125\n"
     ]
    },
    {
     "data": {
      "text/plain": "Batches:   0%|          | 0/2507 [00:00<?, ?it/s]",
      "application/vnd.jupyter.widget-view+json": {
       "version_major": 2,
       "version_minor": 0,
       "model_id": "551925d9db2d494094be01c6ae71bc31"
      }
     },
     "metadata": {},
     "output_type": "display_data"
    },
    {
     "name": "stdout",
     "output_type": "stream",
     "text": [
      "Training average loss - 0.012048729452322018, average accuracy - 0.9966024562059722\n"
     ]
    },
    {
     "data": {
      "text/plain": "Batches:   0%|          | 0/35 [00:00<?, ?it/s]",
      "application/vnd.jupyter.widget-view+json": {
       "version_major": 2,
       "version_minor": 0,
       "model_id": "cf04027231124a868961a2afeec55e6d"
      }
     },
     "metadata": {},
     "output_type": "display_data"
    },
    {
     "name": "stdout",
     "output_type": "stream",
     "text": [
      "Validation loss - 1.5255396663607559,  accuracy - 0.776032315978456\n"
     ]
    },
    {
     "data": {
      "text/plain": "Batches:   0%|          | 0/2507 [00:00<?, ?it/s]",
      "application/vnd.jupyter.widget-view+json": {
       "version_major": 2,
       "version_minor": 0,
       "model_id": "d1dff44ce4594a2fa8d192278d508eec"
      }
     },
     "metadata": {},
     "output_type": "display_data"
    },
    {
     "name": "stdout",
     "output_type": "stream",
     "text": [
      "Training average loss - 0.01269795070223793, average accuracy - 0.9963717972694969\n"
     ]
    },
    {
     "data": {
      "text/plain": "Batches:   0%|          | 0/35 [00:00<?, ?it/s]",
      "application/vnd.jupyter.widget-view+json": {
       "version_major": 2,
       "version_minor": 0,
       "model_id": "95dc24aaf76f41e3b2b0808fbb878cb3"
      }
     },
     "metadata": {},
     "output_type": "display_data"
    },
    {
     "name": "stdout",
     "output_type": "stream",
     "text": [
      "Validation loss - 1.647774617590639,  accuracy - 0.7781642728904847\n"
     ]
    },
    {
     "data": {
      "text/plain": "Batches:   0%|          | 0/2507 [00:00<?, ?it/s]",
      "application/vnd.jupyter.widget-view+json": {
       "version_major": 2,
       "version_minor": 0,
       "model_id": "a13a1dc82cf24ada94c175364f5dc5a0"
      }
     },
     "metadata": {},
     "output_type": "display_data"
    },
    {
     "name": "stdout",
     "output_type": "stream",
     "text": [
      "Training average loss - 0.011691810689759077, average accuracy - 0.9964777756997694\n"
     ]
    },
    {
     "data": {
      "text/plain": "Batches:   0%|          | 0/35 [00:00<?, ?it/s]",
      "application/vnd.jupyter.widget-view+json": {
       "version_major": 2,
       "version_minor": 0,
       "model_id": "73a56502638b4a7b8b77392a2fdafedf"
      }
     },
     "metadata": {},
     "output_type": "display_data"
    },
    {
     "name": "stdout",
     "output_type": "stream",
     "text": [
      "Validation loss - 1.4394424824141085,  accuracy - 0.7724416517055656\n"
     ]
    },
    {
     "data": {
      "text/plain": "Batches:   0%|          | 0/2507 [00:00<?, ?it/s]",
      "application/vnd.jupyter.widget-view+json": {
       "version_major": 2,
       "version_minor": 0,
       "model_id": "d57e4cd2191947b4a1d91e3c06be4b2b"
      }
     },
     "metadata": {},
     "output_type": "display_data"
    },
    {
     "name": "stdout",
     "output_type": "stream",
     "text": [
      "Training average loss - 0.01216163070496698, average accuracy - 0.9965214138769404\n"
     ]
    },
    {
     "data": {
      "text/plain": "Batches:   0%|          | 0/35 [00:00<?, ?it/s]",
      "application/vnd.jupyter.widget-view+json": {
       "version_major": 2,
       "version_minor": 0,
       "model_id": "b69f0534c0e2418ea858529b155e3efa"
      }
     },
     "metadata": {},
     "output_type": "display_data"
    },
    {
     "name": "stdout",
     "output_type": "stream",
     "text": [
      "Validation loss - 1.4763927123704976,  accuracy - 0.7790619389587073\n"
     ]
    },
    {
     "data": {
      "text/plain": "Batches:   0%|          | 0/2507 [00:00<?, ?it/s]",
      "application/vnd.jupyter.widget-view+json": {
       "version_major": 2,
       "version_minor": 0,
       "model_id": "fc64d72563f74f12a1e3d0ecedb88418"
      }
     },
     "metadata": {},
     "output_type": "display_data"
    },
    {
     "name": "stdout",
     "output_type": "stream",
     "text": [
      "Training average loss - 0.010381127379629675, average accuracy - 0.9969827317498909\n"
     ]
    },
    {
     "data": {
      "text/plain": "Batches:   0%|          | 0/35 [00:00<?, ?it/s]",
      "application/vnd.jupyter.widget-view+json": {
       "version_major": 2,
       "version_minor": 0,
       "model_id": "48d206adcb8b4ca795f9e9b45b79ef88"
      }
     },
     "metadata": {},
     "output_type": "display_data"
    },
    {
     "name": "stdout",
     "output_type": "stream",
     "text": [
      "Validation loss - 1.4970417178939874,  accuracy - 0.7742930879712747\n"
     ]
    },
    {
     "data": {
      "text/plain": "Batches:   0%|          | 0/2507 [00:00<?, ?it/s]",
      "application/vnd.jupyter.widget-view+json": {
       "version_major": 2,
       "version_minor": 0,
       "model_id": "6d2eadccf6ff44d592d176a8a488fb26"
      }
     },
     "metadata": {},
     "output_type": "display_data"
    },
    {
     "name": "stdout",
     "output_type": "stream",
     "text": [
      "Training average loss - 0.011680216855692257, average accuracy - 0.9965712860794215\n"
     ]
    },
    {
     "data": {
      "text/plain": "Batches:   0%|          | 0/35 [00:00<?, ?it/s]",
      "application/vnd.jupyter.widget-view+json": {
       "version_major": 2,
       "version_minor": 0,
       "model_id": "d86dfb84d131425fbcb0ad870c7cadb7"
      }
     },
     "metadata": {},
     "output_type": "display_data"
    },
    {
     "name": "stdout",
     "output_type": "stream",
     "text": [
      "Validation loss - 1.64127031305748,  accuracy - 0.7833819569120287\n"
     ]
    },
    {
     "data": {
      "text/plain": "Batches:   0%|          | 0/2507 [00:00<?, ?it/s]",
      "application/vnd.jupyter.widget-view+json": {
       "version_major": 2,
       "version_minor": 0,
       "model_id": "6246313a1b414c61893412d4260e488a"
      }
     },
     "metadata": {},
     "output_type": "display_data"
    },
    {
     "name": "stdout",
     "output_type": "stream",
     "text": [
      "Training average loss - 0.010899059969536887, average accuracy - 0.996677264509694\n"
     ]
    },
    {
     "data": {
      "text/plain": "Batches:   0%|          | 0/35 [00:00<?, ?it/s]",
      "application/vnd.jupyter.widget-view+json": {
       "version_major": 2,
       "version_minor": 0,
       "model_id": "a6b8a742b96a464581478e109e204d7d"
      }
     },
     "metadata": {},
     "output_type": "display_data"
    },
    {
     "name": "stdout",
     "output_type": "stream",
     "text": [
      "Validation loss - 1.619433862516653,  accuracy - 0.7754712746858169\n"
     ]
    },
    {
     "data": {
      "text/plain": "Batches:   0%|          | 0/2507 [00:00<?, ?it/s]",
      "application/vnd.jupyter.widget-view+json": {
       "version_major": 2,
       "version_minor": 0,
       "model_id": "9ee5a0e4bbea417cabdc37aa5f16a323"
      }
     },
     "metadata": {},
     "output_type": "display_data"
    },
    {
     "name": "stdout",
     "output_type": "stream",
     "text": [
      "Training average loss - 0.011704994616816223, average accuracy - 0.9966710304843838\n"
     ]
    },
    {
     "data": {
      "text/plain": "Batches:   0%|          | 0/35 [00:00<?, ?it/s]",
      "application/vnd.jupyter.widget-view+json": {
       "version_major": 2,
       "version_minor": 0,
       "model_id": "a23917e268fa4cae857f3029ff4d2217"
      }
     },
     "metadata": {},
     "output_type": "display_data"
    },
    {
     "name": "stdout",
     "output_type": "stream",
     "text": [
      "Validation loss - 1.6903808303110475,  accuracy - 0.769524236983842\n"
     ]
    },
    {
     "data": {
      "text/plain": "Batches:   0%|          | 0/2507 [00:00<?, ?it/s]",
      "application/vnd.jupyter.widget-view+json": {
       "version_major": 2,
       "version_minor": 0,
       "model_id": "a6e735e475894270ad1919efe2652d00"
      }
     },
     "metadata": {},
     "output_type": "display_data"
    },
    {
     "name": "stdout",
     "output_type": "stream",
     "text": [
      "Training average loss - 0.009885446001560832, average accuracy - 0.9971136462814039\n"
     ]
    },
    {
     "data": {
      "text/plain": "Batches:   0%|          | 0/35 [00:00<?, ?it/s]",
      "application/vnd.jupyter.widget-view+json": {
       "version_major": 2,
       "version_minor": 0,
       "model_id": "685e0e5c27eb4727b810391e4aca4b28"
      }
     },
     "metadata": {},
     "output_type": "display_data"
    },
    {
     "name": "stdout",
     "output_type": "stream",
     "text": [
      "Validation loss - 1.601892235677161,  accuracy - 0.7790058348294434\n"
     ]
    },
    {
     "data": {
      "text/plain": "Batches:   0%|          | 0/2507 [00:00<?, ?it/s]",
      "application/vnd.jupyter.widget-view+json": {
       "version_major": 2,
       "version_minor": 0,
       "model_id": "6775bf36a4144c5dad7d00e61081dc98"
      }
     },
     "metadata": {},
     "output_type": "display_data"
    },
    {
     "name": "stdout",
     "output_type": "stream",
     "text": [
      "Training average loss - 0.010630359711791515, average accuracy - 0.9968455831930678\n"
     ]
    },
    {
     "data": {
      "text/plain": "Batches:   0%|          | 0/35 [00:00<?, ?it/s]",
      "application/vnd.jupyter.widget-view+json": {
       "version_major": 2,
       "version_minor": 0,
       "model_id": "eea254c7691747a3b1541f6fb25308c1"
      }
     },
     "metadata": {},
     "output_type": "display_data"
    },
    {
     "name": "stdout",
     "output_type": "stream",
     "text": [
      "Validation loss - 1.6270661814208518,  accuracy - 0.7776032315978456\n"
     ]
    },
    {
     "data": {
      "text/plain": "Batches:   0%|          | 0/2507 [00:00<?, ?it/s]",
      "application/vnd.jupyter.widget-view+json": {
       "version_major": 2,
       "version_minor": 0,
       "model_id": "cfc28d9460f24978ba277161c52442e0"
      }
     },
     "metadata": {},
     "output_type": "display_data"
    },
    {
     "name": "stdout",
     "output_type": "stream",
     "text": [
      "Training average loss - 0.010144646753986103, average accuracy - 0.9968705192943084\n"
     ]
    },
    {
     "data": {
      "text/plain": "Batches:   0%|          | 0/35 [00:00<?, ?it/s]",
      "application/vnd.jupyter.widget-view+json": {
       "version_major": 2,
       "version_minor": 0,
       "model_id": "d248122c3c5449ea8e5d9bf8f20a4e96"
      }
     },
     "metadata": {},
     "output_type": "display_data"
    },
    {
     "name": "stdout",
     "output_type": "stream",
     "text": [
      "Validation loss - 1.5518787853165632,  accuracy - 0.774741921005386\n"
     ]
    },
    {
     "data": {
      "text/plain": "Batches:   0%|          | 0/2507 [00:00<?, ?it/s]",
      "application/vnd.jupyter.widget-view+json": {
       "version_major": 2,
       "version_minor": 0,
       "model_id": "e057b64a4f4f4c62bce6fc23d850a02c"
      }
     },
     "metadata": {},
     "output_type": "display_data"
    },
    {
     "name": "stdout",
     "output_type": "stream",
     "text": [
      "Training average loss - 0.009486253377547204, average accuracy - 0.9972133906863662\n"
     ]
    },
    {
     "data": {
      "text/plain": "Batches:   0%|          | 0/35 [00:00<?, ?it/s]",
      "application/vnd.jupyter.widget-view+json": {
       "version_major": 2,
       "version_minor": 0,
       "model_id": "618eccb7ea0e4c5e95be11e9beca00c2"
      }
     },
     "metadata": {},
     "output_type": "display_data"
    },
    {
     "name": "stdout",
     "output_type": "stream",
     "text": [
      "Validation loss - 1.451180160366654,  accuracy - 0.7690754039497307\n"
     ]
    },
    {
     "data": {
      "text/plain": "Batches:   0%|          | 0/2507 [00:00<?, ?it/s]",
      "application/vnd.jupyter.widget-view+json": {
       "version_major": 2,
       "version_minor": 0,
       "model_id": "088e2a3caf1545c2922df0e6725a3456"
      }
     },
     "metadata": {},
     "output_type": "display_data"
    },
    {
     "name": "stdout",
     "output_type": "stream",
     "text": [
      "Training average loss - 0.010250970930817066, average accuracy - 0.9968829873449286\n"
     ]
    },
    {
     "data": {
      "text/plain": "Batches:   0%|          | 0/35 [00:00<?, ?it/s]",
      "application/vnd.jupyter.widget-view+json": {
       "version_major": 2,
       "version_minor": 0,
       "model_id": "6dab3de146af414b84c52b4b110da6ea"
      }
     },
     "metadata": {},
     "output_type": "display_data"
    },
    {
     "name": "stdout",
     "output_type": "stream",
     "text": [
      "Validation loss - 1.4183931834393815,  accuracy - 0.7645309694793537\n"
     ]
    },
    {
     "data": {
      "text/plain": "Batches:   0%|          | 0/2507 [00:00<?, ?it/s]",
      "application/vnd.jupyter.widget-view+json": {
       "version_major": 2,
       "version_minor": 0,
       "model_id": "185d33e7907b4dd8933863fd34f3ee0f"
      }
     },
     "metadata": {},
     "output_type": "display_data"
    },
    {
     "name": "stdout",
     "output_type": "stream",
     "text": [
      "Training average loss - 0.011256099361506261, average accuracy - 0.9965463499781809\n"
     ]
    },
    {
     "data": {
      "text/plain": "Batches:   0%|          | 0/35 [00:00<?, ?it/s]",
      "application/vnd.jupyter.widget-view+json": {
       "version_major": 2,
       "version_minor": 0,
       "model_id": "ce70340acd6346eea4f5a69fd24bcf67"
      }
     },
     "metadata": {},
     "output_type": "display_data"
    },
    {
     "name": "stdout",
     "output_type": "stream",
     "text": [
      "Validation loss - 1.6465263186922192,  accuracy - 0.7641382405745063\n"
     ]
    },
    {
     "data": {
      "text/plain": "Batches:   0%|          | 0/2507 [00:00<?, ?it/s]",
      "application/vnd.jupyter.widget-view+json": {
       "version_major": 2,
       "version_minor": 0,
       "model_id": "f84548d07f494a258f8a983f08801a04"
      }
     },
     "metadata": {},
     "output_type": "display_data"
    },
    {
     "name": "stdout",
     "output_type": "stream",
     "text": [
      "Training average loss - 0.008615041776742494, average accuracy - 0.9973754753444299\n"
     ]
    },
    {
     "data": {
      "text/plain": "Batches:   0%|          | 0/35 [00:00<?, ?it/s]",
      "application/vnd.jupyter.widget-view+json": {
       "version_major": 2,
       "version_minor": 0,
       "model_id": "86352a05a16d4a5f8a805768f1a7d242"
      }
     },
     "metadata": {},
     "output_type": "display_data"
    },
    {
     "name": "stdout",
     "output_type": "stream",
     "text": [
      "Validation loss - 1.7816541152111718,  accuracy - 0.7814744165170556\n"
     ]
    },
    {
     "data": {
      "text/plain": "Batches:   0%|          | 0/2507 [00:00<?, ?it/s]",
      "application/vnd.jupyter.widget-view+json": {
       "version_major": 2,
       "version_minor": 0,
       "model_id": "a59b64467a8841bb91d86e59ce074a1c"
      }
     },
     "metadata": {},
     "output_type": "display_data"
    },
    {
     "name": "stdout",
     "output_type": "stream",
     "text": [
      "Training average loss - 0.009834114255650797, average accuracy - 0.9970887101801633\n"
     ]
    },
    {
     "data": {
      "text/plain": "Batches:   0%|          | 0/35 [00:00<?, ?it/s]",
      "application/vnd.jupyter.widget-view+json": {
       "version_major": 2,
       "version_minor": 0,
       "model_id": "5421e1604dd14d8ba43207bba4e6ba09"
      }
     },
     "metadata": {},
     "output_type": "display_data"
    },
    {
     "name": "stdout",
     "output_type": "stream",
     "text": [
      "Validation loss - 1.6359587513993843,  accuracy - 0.7671117594254937\n"
     ]
    },
    {
     "data": {
      "text/plain": "Batches:   0%|          | 0/2507 [00:00<?, ?it/s]",
      "application/vnd.jupyter.widget-view+json": {
       "version_major": 2,
       "version_minor": 0,
       "model_id": "85d03b4446584ad0b6bc49f9ef9d4a8f"
      }
     },
     "metadata": {},
     "output_type": "display_data"
    },
    {
     "name": "stdout",
     "output_type": "stream",
     "text": [
      "Training average loss - 0.008894329569619719, average accuracy - 0.9972819649647777\n"
     ]
    },
    {
     "data": {
      "text/plain": "Batches:   0%|          | 0/35 [00:00<?, ?it/s]",
      "application/vnd.jupyter.widget-view+json": {
       "version_major": 2,
       "version_minor": 0,
       "model_id": "41cc60b2fbed44808d7af96881d20642"
      }
     },
     "metadata": {},
     "output_type": "display_data"
    },
    {
     "name": "stdout",
     "output_type": "stream",
     "text": [
      "Validation loss - 1.8361013286631669,  accuracy - 0.7680094254937163\n"
     ]
    },
    {
     "data": {
      "text/plain": "Batches:   0%|          | 0/2507 [00:00<?, ?it/s]",
      "application/vnd.jupyter.widget-view+json": {
       "version_major": 2,
       "version_minor": 0,
       "model_id": "9f41098729f1430bb629da6e30de1ee7"
      }
     },
     "metadata": {},
     "output_type": "display_data"
    },
    {
     "name": "stdout",
     "output_type": "stream",
     "text": [
      "Training average loss - 0.009228959550679467, average accuracy - 0.9971759865345053\n"
     ]
    },
    {
     "data": {
      "text/plain": "Batches:   0%|          | 0/35 [00:00<?, ?it/s]",
      "application/vnd.jupyter.widget-view+json": {
       "version_major": 2,
       "version_minor": 0,
       "model_id": "a623ae23799e4c5a8e1d0793aa097613"
      }
     },
     "metadata": {},
     "output_type": "display_data"
    },
    {
     "name": "stdout",
     "output_type": "stream",
     "text": [
      "Validation loss - 1.8382260412031273,  accuracy - 0.7745736086175943\n"
     ]
    },
    {
     "data": {
      "text/plain": "Batches:   0%|          | 0/2507 [00:00<?, ?it/s]",
      "application/vnd.jupyter.widget-view+json": {
       "version_major": 2,
       "version_minor": 0,
       "model_id": "d1af42c5c4bd40e9a093dd4baf8db07d"
      }
     },
     "metadata": {},
     "output_type": "display_data"
    },
    {
     "name": "stdout",
     "output_type": "stream",
     "text": [
      "Training average loss - 0.009192796917530329, average accuracy - 0.9970637740789228\n"
     ]
    },
    {
     "data": {
      "text/plain": "Batches:   0%|          | 0/35 [00:00<?, ?it/s]",
      "application/vnd.jupyter.widget-view+json": {
       "version_major": 2,
       "version_minor": 0,
       "model_id": "40c914da84b943f78b45adb33a0e95e6"
      }
     },
     "metadata": {},
     "output_type": "display_data"
    },
    {
     "name": "stdout",
     "output_type": "stream",
     "text": [
      "Validation loss - 1.7535590562614976,  accuracy - 0.7698047576301615\n"
     ]
    },
    {
     "data": {
      "text/plain": "Batches:   0%|          | 0/2507 [00:00<?, ?it/s]",
      "application/vnd.jupyter.widget-view+json": {
       "version_major": 2,
       "version_minor": 0,
       "model_id": "469c84d263f1464182c8bbbef04f6e1e"
      }
     },
     "metadata": {},
     "output_type": "display_data"
    },
    {
     "name": "stdout",
     "output_type": "stream",
     "text": [
      "Training average loss - 0.008623930471490397, average accuracy - 0.9974004114456705\n"
     ]
    },
    {
     "data": {
      "text/plain": "Batches:   0%|          | 0/35 [00:00<?, ?it/s]",
      "application/vnd.jupyter.widget-view+json": {
       "version_major": 2,
       "version_minor": 0,
       "model_id": "2b852a4098f04650ac5b10bb790f9e1b"
      }
     },
     "metadata": {},
     "output_type": "display_data"
    },
    {
     "name": "stdout",
     "output_type": "stream",
     "text": [
      "Validation loss - 1.8579239504983651,  accuracy - 0.7741808797127468\n"
     ]
    },
    {
     "data": {
      "text/plain": "Batches:   0%|          | 0/2507 [00:00<?, ?it/s]",
      "application/vnd.jupyter.widget-view+json": {
       "version_major": 2,
       "version_minor": 0,
       "model_id": "9da5679c32e14ffcbba51b099f32f911"
      }
     },
     "metadata": {},
     "output_type": "display_data"
    },
    {
     "name": "stdout",
     "output_type": "stream",
     "text": [
      "Training average loss - 0.009479961933097815, average accuracy - 0.9970824761548532\n"
     ]
    },
    {
     "data": {
      "text/plain": "Batches:   0%|          | 0/35 [00:00<?, ?it/s]",
      "application/vnd.jupyter.widget-view+json": {
       "version_major": 2,
       "version_minor": 0,
       "model_id": "d509fc40b6a34d9cbbf7da88a1e96049"
      }
     },
     "metadata": {},
     "output_type": "display_data"
    },
    {
     "name": "stdout",
     "output_type": "stream",
     "text": [
      "Validation loss - 1.916424049723298,  accuracy - 0.7722172351885098\n"
     ]
    },
    {
     "data": {
      "text/plain": "Batches:   0%|          | 0/2507 [00:00<?, ?it/s]",
      "application/vnd.jupyter.widget-view+json": {
       "version_major": 2,
       "version_minor": 0,
       "model_id": "12549b4aab0d4c6d9741831cdb856756"
      }
     },
     "metadata": {},
     "output_type": "display_data"
    },
    {
     "name": "stdout",
     "output_type": "stream",
     "text": [
      "Training average loss - 0.00870070103752828, average accuracy - 0.9973193691166387\n"
     ]
    },
    {
     "data": {
      "text/plain": "Batches:   0%|          | 0/35 [00:00<?, ?it/s]",
      "application/vnd.jupyter.widget-view+json": {
       "version_major": 2,
       "version_minor": 0,
       "model_id": "2b89093020a1480abe6b20d6bd9871d3"
      }
     },
     "metadata": {},
     "output_type": "display_data"
    },
    {
     "name": "stdout",
     "output_type": "stream",
     "text": [
      "Validation loss - 1.9063412862791407,  accuracy - 0.7643626570915619\n"
     ]
    },
    {
     "data": {
      "text/plain": "Batches:   0%|          | 0/2507 [00:00<?, ?it/s]",
      "application/vnd.jupyter.widget-view+json": {
       "version_major": 2,
       "version_minor": 0,
       "model_id": "e8f283a1decc41b3bb2096e2341fa75e"
      }
     },
     "metadata": {},
     "output_type": "display_data"
    },
    {
     "name": "stdout",
     "output_type": "stream",
     "text": [
      "Training average loss - 0.008241224308652872, average accuracy - 0.9974876878000125\n"
     ]
    },
    {
     "data": {
      "text/plain": "Batches:   0%|          | 0/35 [00:00<?, ?it/s]",
      "application/vnd.jupyter.widget-view+json": {
       "version_major": 2,
       "version_minor": 0,
       "model_id": "47fec674880349fabbb4d3a7ccd3df4f"
      }
     },
     "metadata": {},
     "output_type": "display_data"
    },
    {
     "name": "stdout",
     "output_type": "stream",
     "text": [
      "Validation loss - 1.858130331527395,  accuracy - 0.7695803411131059\n"
     ]
    },
    {
     "data": {
      "text/plain": "Batches:   0%|          | 0/2507 [00:00<?, ?it/s]",
      "application/vnd.jupyter.widget-view+json": {
       "version_major": 2,
       "version_minor": 0,
       "model_id": "b3330032b6a048ba9681983ea28d6f52"
      }
     },
     "metadata": {},
     "output_type": "display_data"
    },
    {
     "name": "stdout",
     "output_type": "stream",
     "text": [
      "Training average loss - 0.0088710040997973, average accuracy - 0.9973505392431893\n"
     ]
    },
    {
     "data": {
      "text/plain": "Batches:   0%|          | 0/35 [00:00<?, ?it/s]",
      "application/vnd.jupyter.widget-view+json": {
       "version_major": 2,
       "version_minor": 0,
       "model_id": "7cfcd631b7434238bb7f05b9f660c145"
      }
     },
     "metadata": {},
     "output_type": "display_data"
    },
    {
     "name": "stdout",
     "output_type": "stream",
     "text": [
      "Validation loss - 1.7566708478294113,  accuracy - 0.7621745960502693\n"
     ]
    },
    {
     "data": {
      "text/plain": "Batches:   0%|          | 0/2507 [00:00<?, ?it/s]",
      "application/vnd.jupyter.widget-view+json": {
       "version_major": 2,
       "version_minor": 0,
       "model_id": "ca81a14a4af84edba68f0a95be4af25d"
      }
     },
     "metadata": {},
     "output_type": "display_data"
    },
    {
     "name": "stdout",
     "output_type": "stream",
     "text": [
      "Training average loss - 0.008065554881915977, average accuracy - 0.9974939218253226\n"
     ]
    },
    {
     "data": {
      "text/plain": "Batches:   0%|          | 0/35 [00:00<?, ?it/s]",
      "application/vnd.jupyter.widget-view+json": {
       "version_major": 2,
       "version_minor": 0,
       "model_id": "d5d53dc2887f43c092a6503b646a9650"
      }
     },
     "metadata": {},
     "output_type": "display_data"
    },
    {
     "name": "stdout",
     "output_type": "stream",
     "text": [
      "Validation loss - 1.8198906859546846,  accuracy - 0.7740125673249552\n"
     ]
    },
    {
     "data": {
      "text/plain": "Batches:   0%|          | 0/2507 [00:00<?, ?it/s]",
      "application/vnd.jupyter.widget-view+json": {
       "version_major": 2,
       "version_minor": 0,
       "model_id": "288348bcc49741429bb3b4e4f69269b4"
      }
     },
     "metadata": {},
     "output_type": "display_data"
    },
    {
     "name": "stdout",
     "output_type": "stream",
     "text": [
      "Training average loss - 0.008155688539966632, average accuracy - 0.9974627516987719\n"
     ]
    },
    {
     "data": {
      "text/plain": "Batches:   0%|          | 0/35 [00:00<?, ?it/s]",
      "application/vnd.jupyter.widget-view+json": {
       "version_major": 2,
       "version_minor": 0,
       "model_id": "a07b61af0e3246128d2d41502a9f3e72"
      }
     },
     "metadata": {},
     "output_type": "display_data"
    },
    {
     "name": "stdout",
     "output_type": "stream",
     "text": [
      "Validation loss - 1.7759221222927155,  accuracy - 0.7709829443447038\n"
     ]
    },
    {
     "data": {
      "text/plain": "Batches:   0%|          | 0/2507 [00:00<?, ?it/s]",
      "application/vnd.jupyter.widget-view+json": {
       "version_major": 2,
       "version_minor": 0,
       "model_id": "b1ca4b70eba2433da7d0282b74085ac7"
      }
     },
     "metadata": {},
     "output_type": "display_data"
    },
    {
     "name": "stdout",
     "output_type": "stream",
     "text": [
      "Training average loss - 0.0087270021227531, average accuracy - 0.9973505392431893\n"
     ]
    },
    {
     "data": {
      "text/plain": "Batches:   0%|          | 0/35 [00:00<?, ?it/s]",
      "application/vnd.jupyter.widget-view+json": {
       "version_major": 2,
       "version_minor": 0,
       "model_id": "6a57130a50fe4927801a545304f20ac4"
      }
     },
     "metadata": {},
     "output_type": "display_data"
    },
    {
     "name": "stdout",
     "output_type": "stream",
     "text": [
      "Validation loss - 2.122827203312297,  accuracy - 0.7744052962298025\n"
     ]
    },
    {
     "data": {
      "text/plain": "Batches:   0%|          | 0/2507 [00:00<?, ?it/s]",
      "application/vnd.jupyter.widget-view+json": {
       "version_major": 2,
       "version_minor": 0,
       "model_id": "0952ef41a77d4fd79031c61818597521"
      }
     },
     "metadata": {},
     "output_type": "display_data"
    },
    {
     "name": "stdout",
     "output_type": "stream",
     "text": [
      "Training average loss - 0.00665587201164776, average accuracy - 0.9978804313945515\n"
     ]
    },
    {
     "data": {
      "text/plain": "Batches:   0%|          | 0/35 [00:00<?, ?it/s]",
      "application/vnd.jupyter.widget-view+json": {
       "version_major": 2,
       "version_minor": 0,
       "model_id": "fb176add7d244680b4f7cb51dc141346"
      }
     },
     "metadata": {},
     "output_type": "display_data"
    },
    {
     "name": "stdout",
     "output_type": "stream",
     "text": [
      "Validation loss - 1.91607741735996,  accuracy - 0.7632966786355476\n"
     ]
    },
    {
     "data": {
      "text/plain": "Batches:   0%|          | 0/2507 [00:00<?, ?it/s]",
      "application/vnd.jupyter.widget-view+json": {
       "version_major": 2,
       "version_minor": 0,
       "model_id": "044cb84c2c134329aaaa6779532cd05a"
      }
     },
     "metadata": {},
     "output_type": "display_data"
    },
    {
     "name": "stdout",
     "output_type": "stream",
     "text": [
      "Training average loss - 0.009293440607829523, average accuracy - 0.9971448164079546\n"
     ]
    },
    {
     "data": {
      "text/plain": "Batches:   0%|          | 0/35 [00:00<?, ?it/s]",
      "application/vnd.jupyter.widget-view+json": {
       "version_major": 2,
       "version_minor": 0,
       "model_id": "77e241a052e348c59fd47f2f145329f7"
      }
     },
     "metadata": {},
     "output_type": "display_data"
    },
    {
     "name": "stdout",
     "output_type": "stream",
     "text": [
      "Validation loss - 1.9411097264161443,  accuracy - 0.7726660682226212\n"
     ]
    },
    {
     "data": {
      "text/plain": "Batches:   0%|          | 0/2507 [00:00<?, ?it/s]",
      "application/vnd.jupyter.widget-view+json": {
       "version_major": 2,
       "version_minor": 0,
       "model_id": "9ea87133173e4d2481c24d0347cb65be"
      }
     },
     "metadata": {},
     "output_type": "display_data"
    },
    {
     "name": "stdout",
     "output_type": "stream",
     "text": [
      "Training average loss - 0.007402426314359234, average accuracy - 0.997687176609937\n"
     ]
    },
    {
     "data": {
      "text/plain": "Batches:   0%|          | 0/35 [00:00<?, ?it/s]",
      "application/vnd.jupyter.widget-view+json": {
       "version_major": 2,
       "version_minor": 0,
       "model_id": "023429d48f0447528d6c0e50963837be"
      }
     },
     "metadata": {},
     "output_type": "display_data"
    },
    {
     "name": "stdout",
     "output_type": "stream",
     "text": [
      "Validation loss - 2.0129061192541617,  accuracy - 0.7639138240574507\n"
     ]
    },
    {
     "data": {
      "text/plain": "Batches:   0%|          | 0/2507 [00:00<?, ?it/s]",
      "application/vnd.jupyter.widget-view+json": {
       "version_major": 2,
       "version_minor": 0,
       "model_id": "2601f6fcb54a41d6900d7441e760b2b2"
      }
     },
     "metadata": {},
     "output_type": "display_data"
    },
    {
     "name": "stdout",
     "output_type": "stream",
     "text": [
      "Training average loss - 0.007880162482852377, average accuracy - 0.9974378155975313\n"
     ]
    },
    {
     "data": {
      "text/plain": "Batches:   0%|          | 0/35 [00:00<?, ?it/s]",
      "application/vnd.jupyter.widget-view+json": {
       "version_major": 2,
       "version_minor": 0,
       "model_id": "5524803dbfff4c4fa485037608886ae3"
      }
     },
     "metadata": {},
     "output_type": "display_data"
    },
    {
     "name": "stdout",
     "output_type": "stream",
     "text": [
      "Validation loss - 1.8827781244925152,  accuracy - 0.7650359066427289\n"
     ]
    }
   ],
   "source": [
    "train(model, dataloaders, criteria, optimizer, epochs=50, stats=stats, device=device)"
   ],
   "metadata": {
    "collapsed": false
   }
  },
  {
   "cell_type": "code",
   "execution_count": 41,
   "outputs": [
    {
     "data": {
      "text/plain": "<Figure size 640x480 with 2 Axes>",
      "image/png": "[encoded data removed]"
     },
     "metadata": {},
     "output_type": "display_data"
    }
   ],
   "source": [
    "fig, (ax1, ax2) = plt.subplots(nrows=1, ncols=2)\n",
    "ax1.plot(stats[\"train\"][\"loss\"], label='train')\n",
    "ax1.plot(stats['validation']['loss'], label='validation')\n",
    "ax2.plot(stats['train']['accuracy'], label='train')\n",
    "ax2.plot(stats['validation']['accuracy'], label='validation')\n",
    "\n",
    "ax1.set_title('Loss')\n",
    "ax2.set_title('Accuracy')\n",
    "plt.legend()\n",
    "plt.show()\n"
   ],
   "metadata": {
    "collapsed": false
   }
  },
  {
   "cell_type": "code",
   "execution_count": 42,
   "outputs": [],
   "source": [
    "torch.save(\n",
    "    {\n",
    "        'epochs': 50,\n",
    "        'model_state_dict': model.state_dict(),\n",
    "        'optimizer_state_dict': optimizer.state_dict()\n",
    "    },\n",
    "    os.path.join(\"weights\", f'{model.__class__.__name__}1.pt')\n",
    ")"
   ],
   "metadata": {
    "collapsed": false
   }
  },
  {
   "cell_type": "code",
   "execution_count": 44,
   "outputs": [
    {
     "data": {
      "text/plain": "<Figure size 640x480 with 3 Axes>",
      "image/png": "[encoded data removed]"
     },
     "metadata": {},
     "output_type": "display_data"
    }
   ],
   "source": [
    "old_stats = fetch_json('stats.json')['CD2Conv']\n",
    "fig, (ax1, ax2, ax3) = plt.subplots(nrows=1, ncols=3)\n",
    "ax1.plot(stats[\"train\"][\"loss\"], label='new')\n",
    "ax1.plot(old_stats['train']['loss'], label='old')\n",
    "ax2.plot(stats['train']['accuracy'], label='new')\n",
    "ax2.plot(old_stats['train']['accuracy'], label='old')\n",
    "ax3.plot(stats['validation']['accuracy'], label='new')\n",
    "ax3.plot(old_stats['validation']['accuracy'], label='new')\n",
    "\n",
    "ax1.set_title('Train Loss')\n",
    "ax2.set_title('Train Accuracy')\n",
    "ax3.set_title('Validation Accuracy')\n",
    "plt.legend()\n",
    "plt.show()\n"
   ],
   "metadata": {
    "collapsed": false
   }
  },
  {
   "cell_type": "code",
   "execution_count": 75,
   "outputs": [
    {
     "name": "stdout",
     "output_type": "stream",
     "text": [
      "result size: (22, 22)\n"
     ]
    },
    {
     "data": {
      "text/plain": "<All keys matched successfully>"
     },
     "execution_count": 75,
     "metadata": {},
     "output_type": "execute_result"
    }
   ],
   "source": [
    "checkpoint = torch.load(os.path.join(\"weights\", \"CD2Conv1.pt\"))\n",
    "model = CD2Conv().to(device)\n",
    "model.load_state_dict(checkpoint['model_state_dict'])"
   ],
   "metadata": {
    "collapsed": false
   }
  },
  {
   "cell_type": "code",
   "execution_count": 78,
   "outputs": [
    {
     "data": {
      "text/plain": "Batches:   0%|          | 0/2507 [00:00<?, ?it/s]",
      "application/vnd.jupyter.widget-view+json": {
       "version_major": 2,
       "version_minor": 0,
       "model_id": "4679d63c885f42d6b5ff29028203ee6a"
      }
     },
     "metadata": {},
     "output_type": "display_data"
    },
    {
     "name": "stdout",
     "output_type": "stream",
     "text": [
      "torch.Size([64, 3, 32, 32])\n",
      "flatten: torch.Size([64, 30976])\n"
     ]
    }
   ],
   "source": [
    "for i, data in enumerate(tqdm(train_dl, desc='Batches')):\n",
    "    x, y = data\n",
    "    x = x.half().to(device)\n",
    "    print(x.shape)\n",
    "    y = y.to(device).float()\n",
    "\n",
    "    sample_size = x.size(0)\n",
    "    with torch.no_grad():\n",
    "        with autocast():\n",
    "            output = model(x).view(len(x), -1)\n",
    "        output = torch.sigmoid(output)\n",
    "        output = (output >= 0.5) * 1\n",
    "    break"
   ],
   "metadata": {
    "collapsed": false
   }
  },
  {
   "cell_type": "code",
   "execution_count": null,
   "outputs": [],
   "source": [
    "submission_list = []\n",
    "for filename in tqdm(os.listdir('test')):\n",
    "    with Image.open(os.path.join('test', filename)) as img:\n",
    "        print(type(img))\n",
    "        tensor = ds_transformer(img).half().to(device).reshape(1, 3, 32, 32)\n",
    "        print(type(tensor))\n",
    "        print(tensor.shape)\n",
    "    with autocast():\n",
    "        with torch.no_grad():\n",
    "            output = model(tensor).reshape(-1)\n",
    "        output = torch.sigmoid(output)\n",
    "        label = (output >= 0.5) * 1\n",
    "    submission_list.append([filename[:-4], label])"
   ],
   "metadata": {
    "collapsed": false,
    "pycharm": {
     "is_executing": true
    }
   }
  },
  {
   "cell_type": "code",
   "execution_count": 87,
   "outputs": [],
   "source": [
    "submission_list = [(i[0], int(i[1][0])) for i in submission_list]"
   ],
   "metadata": {
    "collapsed": false
   }
  },
  {
   "cell_type": "code",
   "execution_count": 100,
   "outputs": [],
   "source": [
    "submission_pd = pd.DataFrame(submission_list, columns=['id', 'label'])\n",
    "submission_pd = submission_pd.set_index('id')"
   ],
   "metadata": {
    "collapsed": false
   }
  },
  {
   "cell_type": "code",
   "execution_count": 101,
   "outputs": [],
   "source": [
    "submission_pd.to_csv('submission.csv')"
   ],
   "metadata": {
    "collapsed": false
   }
  }
 ],
 "metadata": {
  "kernelspec": {
   "display_name": "Python 3 (ipykernel)",
   "language": "python",
   "name": "python3"
  },
  "language_info": {
   "codemirror_mode": {
    "name": "ipython",
    "version": 3
   },
   "file_extension": ".py",
   "mimetype": "text/x-python",
   "name": "python",
   "nbconvert_exporter": "python",
   "pygments_lexer": "ipython3",
   "version": "3.9.13"
  }
 },
 "nbformat": 4,
 "nbformat_minor": 4
}
