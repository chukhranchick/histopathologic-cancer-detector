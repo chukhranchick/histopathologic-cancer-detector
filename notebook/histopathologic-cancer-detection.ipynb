{
 "cells": [
  {
   "cell_type": "markdown",
   "metadata": {},
   "source": [
    "# TODO:\n",
    "* [x] replace next two rows with sorted image names\n",
    "* [x] quality control - check for missing images in both variables\n",
    "* [ ] balance train_df with sklearn\n",
    "* [ ] balance batches (n, n) {0, 1} with Pytorch Samplers\n",
    "* [x] crop train and test images to 32 x 32 (from center)\n",
    "* [x] multiply loss.item() by batch_size (because default reduction value in Loss function is mean)\n",
    "* [x] replace next two rows with sorted image names\n",
    "* [x] quality control - check for missing images in both variables \n",
    "* [x] make bigger batch size for validation"
   ]
  },
  {
   "cell_type": "markdown",
   "metadata": {},
   "source": [
    "# Hello there!\n",
    "This is my almost first try to create a notebook. The main reason for this is because I have never seen the guides, where is NN building was described"
   ]
  },
  {
   "cell_type": "markdown",
   "source": [
    "# Imports"
   ],
   "metadata": {
    "collapsed": false
   }
  },
  {
   "cell_type": "code",
   "execution_count": 1,
   "metadata": {
    "_cell_guid": "b1076dfc-b9ad-4769-8c92-a6c4dae69d19",
    "_uuid": "8f2839f25d086af736a60e9eeb907d3b93b6e0e5",
    "execution": {
     "iopub.execute_input": "2022-11-15T10:10:09.369065Z",
     "iopub.status.busy": "2022-11-15T10:10:09.368657Z",
     "iopub.status.idle": "2022-11-15T10:10:11.651541Z",
     "shell.execute_reply": "2022-11-15T10:10:11.650403Z",
     "shell.execute_reply.started": "2022-11-15T10:10:09.368982Z"
    }
   },
   "outputs": [],
   "source": [
    "import gc\n",
    "import os\n",
    "from collections import Counter\n",
    "\n",
    "import json\n",
    "\n",
    "import matplotlib.pyplot as plt\n",
    "import numpy as np\n",
    "import pandas as pd\n",
    "import torch\n",
    "import torch.nn as nn\n",
    "import torchvision.transforms as transforms\n",
    "from PIL import Image\n",
    "from torch.cuda.amp import autocast\n",
    "from torch.utils.data import Dataset, DataLoader\n",
    "from torch.utils.data import random_split\n",
    "from torch.optim import Adam\n",
    "from tqdm.notebook import tqdm\n"
   ]
  },
  {
   "cell_type": "markdown",
   "source": [
    "Don't forget to uncomment the `DATA_DIR` constant for Kaggle or use your path instead."
   ],
   "metadata": {
    "collapsed": false
   }
  },
  {
   "cell_type": "code",
   "execution_count": 3,
   "metadata": {
    "execution": {
     "iopub.execute_input": "2022-11-15T10:10:11.654658Z",
     "iopub.status.busy": "2022-11-15T10:10:11.653844Z",
     "iopub.status.idle": "2022-11-15T10:10:11.682216Z",
     "shell.execute_reply": "2022-11-15T10:10:11.678233Z",
     "shell.execute_reply.started": "2022-11-15T10:10:11.654587Z"
    },
    "jupyter": {
     "outputs_hidden": false
    }
   },
   "outputs": [],
   "source": [
    "#Constants region\n",
    "# DATA_DIR = \"../input/histopathologic-cancer-detection/\"\n",
    "DATA_DIR = \"../\"\n",
    "TRAIN_LABELS = 'train_labels.csv'\n",
    "\n",
    "CENTER_SIZE = 64\n",
    "BATCH_SIZE = 64\n",
    "VALIDATION_BATCH_SIZE = 512\n",
    "#End constant region"
   ]
  },
  {
   "cell_type": "markdown",
   "source": [
    "# Data Preparation"
   ],
   "metadata": {
    "collapsed": false
   }
  },
  {
   "cell_type": "markdown",
   "source": [
    "## Import dataset"
   ],
   "metadata": {
    "collapsed": false
   }
  },
  {
   "cell_type": "code",
   "execution_count": 4,
   "metadata": {
    "execution": {
     "iopub.execute_input": "2022-11-15T10:10:11.688687Z",
     "iopub.status.busy": "2022-11-15T10:10:11.687923Z",
     "iopub.status.idle": "2022-11-15T10:10:12.165215Z",
     "shell.execute_reply": "2022-11-15T10:10:12.164031Z",
     "shell.execute_reply.started": "2022-11-15T10:10:11.688592Z"
    }
   },
   "outputs": [
    {
     "name": "stdout",
     "output_type": "stream",
     "text": [
      "<class 'pandas.core.frame.DataFrame'>\n",
      "RangeIndex: 220025 entries, 0 to 220024\n",
      "Data columns (total 2 columns):\n",
      " #   Column  Non-Null Count   Dtype \n",
      "---  ------  --------------   ----- \n",
      " 0   id      220025 non-null  object\n",
      " 1   label   220025 non-null  int64 \n",
      "dtypes: int64(1), object(1)\n",
      "memory usage: 3.4+ MB\n",
      "None\n",
      "                                         id  label\n",
      "0  f38a6374c348f90b587e046aac6079959adf3835      0\n",
      "1  c18f2d887b7ae4f6742ee445113fa1aef383ed77      1\n",
      "2  755db6279dae599ebb4d39a9123cce439965282d      0\n",
      "3  bc3f0c64fb968ff4a8bd33af6971ecae77c75e08      0\n",
      "4  068aba587a4950175d04c680d38943fd488d6a9d      0\n"
     ]
    }
   ],
   "source": [
    "train_df: pd.DataFrame = pd.read_csv(DATA_DIR + TRAIN_LABELS)\n",
    "print(train_df.info())\n",
    "print(train_df.head())"
   ]
  },
  {
   "cell_type": "markdown",
   "metadata": {},
   "source": [
    "## Check for duplicated values"
   ]
  },
  {
   "cell_type": "code",
   "execution_count": 5,
   "metadata": {
    "execution": {
     "iopub.execute_input": "2022-11-15T10:10:12.168379Z",
     "iopub.status.busy": "2022-11-15T10:10:12.167993Z",
     "iopub.status.idle": "2022-11-15T10:10:12.266884Z",
     "shell.execute_reply": "2022-11-15T10:10:12.265649Z",
     "shell.execute_reply.started": "2022-11-15T10:10:12.168343Z"
    }
   },
   "outputs": [
    {
     "name": "stdout",
     "output_type": "stream",
     "text": [
      "Empty DataFrame\n",
      "Columns: [id, label]\n",
      "Index: []\n"
     ]
    }
   ],
   "source": [
    "print(train_df[train_df['id'].duplicated(keep=False)])"
   ]
  },
  {
   "cell_type": "markdown",
   "source": [
    "No duplicated values found."
   ],
   "metadata": {
    "collapsed": false
   }
  },
  {
   "cell_type": "markdown",
   "metadata": {},
   "source": [
    "## Check if dataset is balanced"
   ]
  },
  {
   "cell_type": "code",
   "execution_count": 6,
   "metadata": {
    "execution": {
     "iopub.execute_input": "2022-11-15T10:10:12.269734Z",
     "iopub.status.busy": "2022-11-15T10:10:12.268632Z",
     "iopub.status.idle": "2022-11-15T10:10:12.383608Z",
     "shell.execute_reply": "2022-11-15T10:10:12.381948Z",
     "shell.execute_reply.started": "2022-11-15T10:10:12.269696Z"
    }
   },
   "outputs": [
    {
     "data": {
      "text/plain": "Counter({0: 130908, 1: 89117})"
     },
     "execution_count": 6,
     "metadata": {},
     "output_type": "execute_result"
    }
   ],
   "source": [
    "Counter(train_df['label'])"
   ]
  },
  {
   "cell_type": "markdown",
   "metadata": {},
   "source": [
    "As we can see, it is not balanced. Let's fix it. I choose to UNDERsample the dataset because I don't know how to synthesise new values for images."
   ]
  },
  {
   "cell_type": "code",
   "execution_count": 7,
   "metadata": {
    "execution": {
     "iopub.execute_input": "2022-11-15T10:10:12.389883Z",
     "iopub.status.busy": "2022-11-15T10:10:12.387685Z",
     "iopub.status.idle": "2022-11-15T10:10:12.507955Z",
     "shell.execute_reply": "2022-11-15T10:10:12.506977Z",
     "shell.execute_reply.started": "2022-11-15T10:10:12.389845Z"
    }
   },
   "outputs": [
    {
     "name": "stdout",
     "output_type": "stream",
     "text": [
      "{1}\n",
      "{1}\n"
     ]
    }
   ],
   "source": [
    "normal = train_df.loc[train_df['label'] == 0]\n",
    "malignant = train_df.loc[train_df['label'] == 1]\n",
    "\n",
    "print(set(Counter(normal['id']).values()))\n",
    "print(set(Counter(malignant['id']).values()))"
   ]
  },
  {
   "cell_type": "code",
   "execution_count": 8,
   "metadata": {
    "execution": {
     "iopub.execute_input": "2022-11-15T10:10:12.514360Z",
     "iopub.status.busy": "2022-11-15T10:10:12.512137Z",
     "iopub.status.idle": "2022-11-15T10:10:12.520365Z",
     "shell.execute_reply": "2022-11-15T10:10:12.519392Z",
     "shell.execute_reply.started": "2022-11-15T10:10:12.514321Z"
    }
   },
   "outputs": [],
   "source": [
    "balance_size = len(malignant)"
   ]
  },
  {
   "cell_type": "code",
   "execution_count": 9,
   "metadata": {
    "execution": {
     "iopub.execute_input": "2022-11-15T10:10:12.525284Z",
     "iopub.status.busy": "2022-11-15T10:10:12.524562Z",
     "iopub.status.idle": "2022-11-15T10:10:12.550839Z",
     "shell.execute_reply": "2022-11-15T10:10:12.549890Z",
     "shell.execute_reply.started": "2022-11-15T10:10:12.525246Z"
    }
   },
   "outputs": [
    {
     "name": "stdout",
     "output_type": "stream",
     "text": [
      "(130908, 2) (89117, 2)\n"
     ]
    }
   ],
   "source": [
    "normal = normal.to_numpy()\n",
    "malignant = malignant.to_numpy()\n",
    "print(normal.shape, malignant.shape)"
   ]
  },
  {
   "cell_type": "code",
   "execution_count": 10,
   "metadata": {
    "execution": {
     "iopub.execute_input": "2022-11-15T10:10:12.557291Z",
     "iopub.status.busy": "2022-11-15T10:10:12.555087Z",
     "iopub.status.idle": "2022-11-15T10:10:12.563534Z",
     "shell.execute_reply": "2022-11-15T10:10:12.562574Z",
     "shell.execute_reply.started": "2022-11-15T10:10:12.557251Z"
    }
   },
   "outputs": [],
   "source": [
    "normal = normal[:balance_size, :]"
   ]
  },
  {
   "cell_type": "code",
   "execution_count": 11,
   "metadata": {
    "execution": {
     "iopub.execute_input": "2022-11-15T10:10:12.573578Z",
     "iopub.status.busy": "2022-11-15T10:10:12.571384Z",
     "iopub.status.idle": "2022-11-15T10:10:12.651328Z",
     "shell.execute_reply": "2022-11-15T10:10:12.650329Z",
     "shell.execute_reply.started": "2022-11-15T10:10:12.573540Z"
    }
   },
   "outputs": [
    {
     "name": "stdout",
     "output_type": "stream",
     "text": [
      "{1}\n",
      "{1}\n"
     ]
    }
   ],
   "source": [
    "print(set(Counter(normal[:, 0]).values()))\n",
    "print(set(Counter(malignant[:, 0]).values()))\n",
    "\n",
    "normal_and_malignant = np.insert(normal, np.arange(len(normal)), malignant, axis=0)\n",
    "balanced_train_df = pd.DataFrame(normal_and_malignant, columns=['id', 'label'])\n",
    "\n",
    "image_directory: str = os.path.join(DATA_DIR, \"train\")\n",
    "image_names: list[str] = sorted(os.listdir(image_directory))\n",
    "balanced_train_df['id'] = balanced_train_df['id'].apply(lambda x: x + '.tif')\n",
    "intersected = np.intersect1d(balanced_train_df['id'].to_numpy().tolist(), image_names)\n",
    "\n",
    "balanced_train_df = balanced_train_df[balanced_train_df['id'].isin(intersected)]\n",
    "balanced_train_df['id'] = balanced_train_df['id'].apply(lambda x: os.path.join(image_directory, x))"
   ]
  },
  {
   "cell_type": "markdown",
   "source": [
    "# Implementing custom dataset"
   ],
   "metadata": {
    "collapsed": false
   }
  },
  {
   "cell_type": "code",
   "execution_count": 12,
   "outputs": [],
   "source": [
    "class HistopathologicCancerDS(Dataset):\n",
    "    def __init__(self,\n",
    "                 dataframe: pd.DataFrame,\n",
    "                 transform=None):\n",
    "        self.transform = transform\n",
    "        processed_labels_path: str = os.path.join('data', 'labels.pt')\n",
    "        processed_images_path = os.path.join('data', 'images.pt')\n",
    "        if os.path.exists(processed_labels_path) and os.path.exists(processed_images_path):\n",
    "            self.images = torch.load(processed_images_path)\n",
    "            self.labels = torch.load(processed_labels_path)\n",
    "        else:\n",
    "            self.labels = dataframe['label'].to_numpy().astype(int)\n",
    "            self.labels = torch.from_numpy(self.labels)\n",
    "            self.abs_image_path = dataframe['id'].to_numpy()\n",
    "            print(\"Converting images to tensors...\")\n",
    "            self.images = self._images_to_tensors()\n",
    "            print(\"Trying to save tensor to file...\")\n",
    "            if not os.path.exists('data'):\n",
    "                os.mkdir('data')\n",
    "            torch.save(self.images, processed_images_path)\n",
    "            torch.save(self.labels, processed_labels_path)\n",
    "        print(\"Done\")\n",
    "        print(\"The dataset is ready for use.\")\n",
    "\n",
    "    def __len__(self):\n",
    "        return len(self.abs_image_path)\n",
    "\n",
    "    def _images_to_tensors(self):\n",
    "        images = []\n",
    "        for i in tqdm(range(len(self.abs_image_path))):\n",
    "            with Image.open(self.abs_image_path[i]) as image:\n",
    "                images.append(self.transform(image))\n",
    "        return torch.stack(images)\n",
    "\n",
    "    def __getitem__(self, index):\n",
    "        return self.images[index], self.labels[index]"
   ],
   "metadata": {
    "collapsed": false
   }
  },
  {
   "cell_type": "code",
   "execution_count": 13,
   "outputs": [],
   "source": [
    "ds_transformer = transforms.Compose([transforms.CenterCrop(CENTER_SIZE),\n",
    "                                     transforms.ToTensor(),\n",
    "                                     transforms.Normalize(mean=[0.485, 0.456, 0.406], std=[0.229, 0.224, 0.225])])"
   ],
   "metadata": {
    "collapsed": false
   }
  },
  {
   "cell_type": "code",
   "execution_count": 14,
   "outputs": [
    {
     "name": "stdout",
     "output_type": "stream",
     "text": [
      "Converting images to tensors...\n"
     ]
    },
    {
     "data": {
      "text/plain": "  0%|          | 0/178234 [00:00<?, ?it/s]",
      "application/vnd.jupyter.widget-view+json": {
       "version_major": 2,
       "version_minor": 0,
       "model_id": "a500597efe294a57b1ab8fe2b21d3da4"
      }
     },
     "metadata": {},
     "output_type": "display_data"
    },
    {
     "name": "stdout",
     "output_type": "stream",
     "text": [
      "Trying to save tensor to file...\n",
      "Done\n",
      "The dataset is ready for use.\n"
     ]
    }
   ],
   "source": [
    "dataset = HistopathologicCancerDS(dataframe=balanced_train_df, transform=ds_transformer)"
   ],
   "metadata": {
    "collapsed": false
   }
  },
  {
   "cell_type": "code",
   "execution_count": 14,
   "outputs": [
    {
     "name": "stdout",
     "output_type": "stream",
     "text": [
      "dataset length: 178234\n"
     ]
    }
   ],
   "source": [
    "print(f\"dataset length: {len(dataset)}\")"
   ],
   "metadata": {
    "collapsed": false
   }
  },
  {
   "cell_type": "code",
   "execution_count": 15,
   "outputs": [
    {
     "name": "stdout",
     "output_type": "stream",
     "text": [
      "torch.Size([3, 32, 32]) 1\n"
     ]
    }
   ],
   "source": [
    "sample, label = dataset[0]\n",
    "print(sample.shape, label)"
   ],
   "metadata": {
    "collapsed": false
   }
  },
  {
   "cell_type": "code",
   "execution_count": 16,
   "outputs": [],
   "source": [
    "def image2plot(image) -> None:\n",
    "    image = image.numpy()\n",
    "    channel_last_image = np.transpose(image, (1, 2, 0))\n",
    "    plt.imshow(channel_last_image)"
   ],
   "metadata": {
    "collapsed": false
   }
  },
  {
   "cell_type": "markdown",
   "source": [
    "## Splitting dataset into train and test sets"
   ],
   "metadata": {
    "collapsed": false
   }
  },
  {
   "cell_type": "code",
   "execution_count": 17,
   "outputs": [
    {
     "name": "stdout",
     "output_type": "stream",
     "text": [
      "train dataset size: 160410, validation dataset size: 17824\n",
      "(tensor([[[-0.1314,  0.0398, -0.1143,  ...,  1.4783,  1.8893,  0.9646],\n",
      "         [ 0.9303, -0.0972, -0.1143,  ...,  1.9749,  2.2318,  2.0605],\n",
      "         [ 1.0159,  0.2967, -0.2856,  ...,  0.4508,  1.0502,  1.3755],\n",
      "         ...,\n",
      "         [-1.0562, -0.9363, -0.3712,  ...,  1.1529,  0.7077,  1.1015],\n",
      "         [-0.8335, -1.4672, -0.3712,  ...,  1.1872,  0.4679,  0.8618],\n",
      "         [-1.2617, -0.9192, -0.7137,  ...,  0.7077,  0.8789,  0.6734]],\n",
      "\n",
      "        [[-1.0553, -0.9153, -1.0553,  ...,  0.6779,  1.2031,  0.2927],\n",
      "         [ 0.0476, -1.0378, -1.0553,  ...,  1.2031,  1.5182,  1.3957],\n",
      "         [ 0.1176, -0.6176, -1.2129,  ..., -0.3550,  0.3102,  0.6429],\n",
      "         ...,\n",
      "         [-1.4580, -1.4580, -1.1078,  ...,  0.0301, -0.4251, -0.0224],\n",
      "         [-1.1078, -1.8957, -1.0203,  ..., -0.0049, -0.7402, -0.3375],\n",
      "         [-1.4755, -1.2479, -1.3354,  ..., -0.5301, -0.3375, -0.5476]],\n",
      "\n",
      "        [[ 0.8448,  1.0017,  0.8274,  ...,  1.9080,  2.3786,  1.4200],\n",
      "         [ 1.9080,  0.8099,  0.7925,  ...,  2.4657,  2.6400,  2.5180],\n",
      "         [ 1.8383,  1.1411,  0.5485,  ...,  0.9145,  1.5245,  1.8383],\n",
      "         ...,\n",
      "         [ 0.3393,  0.3393,  0.7054,  ...,  1.6814,  1.2108,  1.5768],\n",
      "         [ 0.6008, -0.1661,  0.7228,  ...,  1.6117,  0.8448,  1.2457],\n",
      "         [ 0.2173,  0.4265,  0.3568,  ...,  1.0714,  1.2108,  1.0017]]]), 1)\n"
     ]
    }
   ],
   "source": [
    "ds_len = len(dataset)\n",
    "train_size = int(0.9 * ds_len)\n",
    "validation_size = ds_len - train_size\n",
    "train_ds, validation_ds = random_split(dataset, [train_size, validation_size])\n",
    "print(f\"train dataset size: {len(train_ds)}, validation dataset size: {len(validation_ds)}\")\n",
    "print(train_ds[0])"
   ],
   "metadata": {
    "collapsed": false
   }
  },
  {
   "cell_type": "code",
   "execution_count": 18,
   "outputs": [],
   "source": [
    "train_transformation = transforms.Compose([transforms.CenterCrop(CENTER_SIZE),\n",
    "                                           transforms.ToTensor(),\n",
    "                                           transforms.Normalize(mean=[0.485, 0.456, 0.406], std=[0.229, 0.224, 0.225])])\n",
    "validation_transformation = transforms.Compose([transforms.CenterCrop(CENTER_SIZE),\n",
    "                                                transforms.ToTensor(),\n",
    "                                                transforms.Normalize(mean=[0.485, 0.456, 0.406],\n",
    "                                                                     std=[0.229, 0.224, 0.225])\n",
    "                                                ])"
   ],
   "metadata": {
    "collapsed": false
   }
  },
  {
   "cell_type": "code",
   "execution_count": 19,
   "outputs": [
    {
     "name": "stderr",
     "output_type": "stream",
     "text": [
      "Clipping input data to the valid range for imshow with RGB data ([0..1] for floats or [0..255] for integers).\n"
     ]
    },
    {
     "name": "stdout",
     "output_type": "stream",
     "text": [
      "label: 0\n"
     ]
    },
    {
     "data": {
      "text/plain": "<Figure size 640x480 with 1 Axes>",
      "image/png": "[encoded data removed]"
     },
     "metadata": {},
     "output_type": "display_data"
    }
   ],
   "source": [
    "random_train_sample, random_train_label = train_ds[np.random.randint(0, len(train_ds))]\n",
    "image2plot(random_train_sample)\n",
    "print(f\"label: {random_train_label}\")"
   ],
   "metadata": {
    "collapsed": false
   }
  },
  {
   "cell_type": "code",
   "execution_count": 20,
   "outputs": [],
   "source": [
    "train_dl = DataLoader(train_ds, batch_size=BATCH_SIZE, shuffle=True)\n",
    "validation_dl = DataLoader(validation_ds, batch_size=VALIDATION_BATCH_SIZE, shuffle=True)"
   ],
   "metadata": {
    "collapsed": false
   }
  },
  {
   "cell_type": "markdown",
   "source": [
    "# Building NN"
   ],
   "metadata": {
    "collapsed": false
   }
  },
  {
   "cell_type": "markdown",
   "source": [
    "Creating an util function to evaluate shapes after convolutions (yes, I'm so lazy)"
   ],
   "metadata": {
    "collapsed": false
   }
  },
  {
   "cell_type": "code",
   "execution_count": 22,
   "outputs": [],
   "source": [
    "def eval_shape(height, width, model, pool=0):\n",
    "    for layer in model.modules():\n",
    "        if isinstance(layer, nn.Conv2d) or isinstance(layer, nn.MaxPool2d):\n",
    "            kernel_size = layer.kernel_size\n",
    "            stride = layer.stride\n",
    "            padding = layer.padding\n",
    "            dilation = layer.dilation\n",
    "            if isinstance(layer, nn.Conv2d):\n",
    "                height = np.floor((height + 2 * padding[0] - dilation[0] * (kernel_size[0] - 1) - 1) / stride[0] + 1)\n",
    "                width = np.floor((width + 2 * padding[1] - dilation[1] * (kernel_size[1] - 1) - 1) / stride[1] + 1)\n",
    "            elif isinstance(layer, nn.MaxPool2d):\n",
    "                height = np.floor((height + 2 * padding - dilation * (kernel_size - 1) - 1) / stride + 1)\n",
    "                width = np.floor((width + 2 * padding - dilation * (kernel_size - 1) - 1) / stride + 1)\n",
    "    if pool:\n",
    "        height /= pool\n",
    "        width /= pool\n",
    "    return int(height), int(width)"
   ],
   "metadata": {
    "collapsed": false
   }
  },
  {
   "cell_type": "markdown",
   "source": [
    "Our main neural model we will train."
   ],
   "metadata": {
    "collapsed": false
   }
  },
  {
   "cell_type": "code",
   "execution_count": 23,
   "outputs": [],
   "source": [
    "class ConvWithReLU(nn.Module):\n",
    "    def __init__(self, in_channels: int, out_channels: int, kernel_size: int = 3, stride: int = 1):\n",
    "        super(ConvWithReLU, self).__init__()\n",
    "        self.block = nn.Sequential(nn.Conv2d(in_channels, out_channels, kernel_size, stride),\n",
    "                                   nn.ReLU())\n",
    "\n",
    "    def forward(self, x):\n",
    "        return self.block(x)\n",
    "\n",
    "\n",
    "class CD2Conv(nn.Module):\n",
    "    def __init__(self):\n",
    "        super(CD2Conv, self).__init__()\n",
    "        self.conv_block = nn.Sequential(\n",
    "            ConvWithReLU(3, 32, 7),\n",
    "            ConvWithReLU(32, 64, 5)\n",
    "        )\n",
    "        self.relu = nn.ReLU()\n",
    "        h, w = eval_shape(32, 32, self.conv_block)\n",
    "        self.size: int = h * w\n",
    "        self.fc1 = nn.Linear(64 * self.size, 512)\n",
    "        self.fc2 = nn.Linear(512, 1)\n",
    "\n",
    "    def forward(self, x: torch.Tensor) -> torch.Tensor:\n",
    "        x = self.conv_block(x)\n",
    "        x = torch.flatten(x, 1)\n",
    "        x = self.fc1(x)\n",
    "        x = self.relu(x)\n",
    "        x = self.fc2(x)\n",
    "        return x"
   ],
   "metadata": {
    "collapsed": false
   }
  },
  {
   "cell_type": "code",
   "execution_count": 24,
   "outputs": [],
   "source": [
    "dataloaders = {\n",
    "    'train': train_dl,\n",
    "    'validation': validation_dl\n",
    "}"
   ],
   "metadata": {
    "collapsed": false
   }
  },
  {
   "cell_type": "code",
   "execution_count": 25,
   "outputs": [],
   "source": [
    "device = torch.device('cuda' if torch.cuda.is_available() else 'cpu')\n",
    "model = CD2Conv().to(device)\n",
    "optimizer = Adam(model.parameters(), lr=1e-4)\n",
    "criteria = nn.BCEWithLogitsLoss()"
   ],
   "metadata": {
    "collapsed": false
   }
  },
  {
   "cell_type": "markdown",
   "source": [
    "# NN training"
   ],
   "metadata": {
    "collapsed": false
   }
  },
  {
   "cell_type": "code",
   "execution_count": 26,
   "outputs": [],
   "source": [
    "stats = {\n",
    "    'train': {\n",
    "        'loss': [],\n",
    "        'accuracy': []\n",
    "    },\n",
    "    'validation': {\n",
    "        'loss': [],\n",
    "        'accuracy': []\n",
    "    }\n",
    "}"
   ],
   "metadata": {
    "collapsed": false
   }
  },
  {
   "cell_type": "code",
   "execution_count": 35,
   "outputs": [],
   "source": [
    "def one_epoch(model,\n",
    "              dataloader,\n",
    "              criteria,\n",
    "              optimizer=None,\n",
    "              device=device):\n",
    "    running_loss = 0.0\n",
    "    running_accuracy = 0.0\n",
    "    number_of_samples = 0\n",
    "    for i, data in enumerate(tqdm(dataloader, desc='Batches')):\n",
    "        x, y = data\n",
    "        x = x.half().to(device)\n",
    "        y = y.to(device).float()\n",
    "\n",
    "        sample_size = x.size(0)\n",
    "\n",
    "        if optimizer:\n",
    "            optimizer.zero_grad()\n",
    "\n",
    "        with autocast():\n",
    "            output = model(x).view(len(x))\n",
    "            print(f\"output shape: {output.shape}\\n\"\n",
    "                  f\"y shape: {y.shape}\")\n",
    "            print(f\"output: {output}\")\n",
    "            loss = criteria(output, y)\n",
    "        output = torch.sigmoid(output)\n",
    "        y = y.int()\n",
    "        output = (output >= 0.5) * 1\n",
    "\n",
    "        running_accuracy += torch.sum(output == y).item()\n",
    "        running_loss += float(loss.item() * sample_size)\n",
    "        number_of_samples += sample_size\n",
    "\n",
    "        if optimizer:\n",
    "            loss.backward()\n",
    "            optimizer.step()\n",
    "\n",
    "        if torch.cuda.is_available():\n",
    "            del x, output, loss\n",
    "            gc.collect()\n",
    "            with torch.cuda.device(device):\n",
    "                torch.cuda.empty_cache()\n",
    "\n",
    "    loss = running_loss / len(dataloader.dataset)\n",
    "    accuracy = running_accuracy / number_of_samples\n",
    "    return loss, accuracy\n",
    "\n",
    "\n",
    "def train(model,\n",
    "          dataloaders,\n",
    "          criteria,\n",
    "          optimizer,\n",
    "          epochs,\n",
    "          stats,\n",
    "          device):\n",
    "    print(\"Epochs\")\n",
    "    for epoch in tqdm(range(epochs), desc=\"Epochs\"):\n",
    "        avg_train_loss, avg_train_accuracy = one_epoch(model, dataloaders['train'], criteria, optimizer)\n",
    "        stats['train']['loss'].append(avg_train_loss)\n",
    "        stats['train']['accuracy'].append(avg_train_accuracy)\n",
    "        print(f\"Training average loss - {avg_train_loss}, average accuracy - {avg_train_accuracy}\")\n",
    "\n",
    "        with torch.no_grad():\n",
    "            avg_valid_loss, avg_valid_accuracy = one_epoch(model, dataloaders['validation'], criteria)\n",
    "        stats['validation']['loss'].append(avg_valid_loss)\n",
    "        stats['validation']['accuracy'].append(avg_valid_accuracy)\n",
    "        print(f\"Validation loss - {avg_valid_loss},  accuracy - {avg_valid_accuracy}\")\n"
   ],
   "metadata": {
    "collapsed": false
   }
  },
  {
   "cell_type": "code",
   "execution_count": null,
   "outputs": [],
   "source": [
    "train(model, dataloaders, criteria, optimizer, device=device, stats=stats, epochs=50)"
   ],
   "metadata": {
    "collapsed": false,
    "pycharm": {
     "is_executing": true
    }
   }
  },
  {
   "cell_type": "code",
   "execution_count": 28,
   "outputs": [],
   "source": [
    "def fetch_json(path: str) -> dict:\n",
    "    with open(path, \"r\") as file:\n",
    "        json_file = json.load(file)\n",
    "        file.close()\n",
    "    return json_file\n",
    "\n",
    "\n",
    "def save_json(json_dict: dict, path: str):\n",
    "    with open(path, \"w\") as file:\n",
    "        json.dump(json_dict, file)\n",
    "        file.close()"
   ],
   "metadata": {
    "collapsed": false
   }
  },
  {
   "cell_type": "code",
   "execution_count": 29,
   "outputs": [],
   "source": [
    "result_dict = {model.__class__.__name__: stats}\n",
    "save_json(result_dict, \"stats.json\")"
   ],
   "metadata": {
    "collapsed": false
   }
  },
  {
   "cell_type": "code",
   "execution_count": 30,
   "outputs": [
    {
     "data": {
      "text/plain": "<Figure size 640x480 with 3 Axes>",
      "image/png": "[encoded data removed]"
     },
     "metadata": {},
     "output_type": "display_data"
    }
   ],
   "source": [
    "fig, (ax1, ax2, ax3) = plt.subplots(nrows=1, ncols=3)\n",
    "for k, v in result_dict.items():\n",
    "    ax1.plot(v[\"train\"][\"loss\"], label=f\"{k} train\")\n",
    "\n",
    "    ax2.plot(v['train']['accuracy'], label=f'{k} train')\n",
    "    ax3.plot(v['validation']['accuracy'], label=f'{k} validation')\n",
    "\n",
    "ax1.set_title('Loss')\n",
    "ax2.set_title('Train Accuracy')\n",
    "ax3.set_title('Validation Accuracy')\n",
    "plt.legend()\n",
    "plt.show()\n"
   ],
   "metadata": {
    "collapsed": false
   }
  },
  {
   "cell_type": "code",
   "execution_count": 31,
   "outputs": [],
   "source": [
    "torch.save(\n",
    "    {\n",
    "        'epochs': 50,\n",
    "        'model_state_dict': model.state_dict(),\n",
    "        'optimizer_state_dict': optimizer.state_dict()\n",
    "    },\n",
    "    os.path.join(\"weights\", f'{model.__class__.__name__}.pt'))"
   ],
   "metadata": {
    "collapsed": false
   }
  },
  {
   "cell_type": "markdown",
   "source": [
    "We trained this model but as we can see, the model performs not so well on validation set.\n",
    "Next thing we should do is to fix it. There are a few options - take the model and fully retrain it with new (augmented data) or try to train only on augmented data.\n",
    "I choose the last."
   ],
   "metadata": {
    "collapsed": false
   }
  },
  {
   "cell_type": "markdown",
   "source": [
    "# Improving NN\n",
    "Loading trained model"
   ],
   "metadata": {
    "collapsed": false
   }
  },
  {
   "cell_type": "code",
   "execution_count": 32,
   "outputs": [],
   "source": [
    "device = torch.device('cuda' if torch.cuda.is_available() else 'cpu')\n",
    "checkpoint = torch.load(os.path.join(\"weights\", \"CD2Conv.pt\"))\n",
    "model = CD2Conv().to(device)\n",
    "model.load_state_dict(checkpoint['model_state_dict'])\n",
    "optimizer = Adam(model.parameters(), lr=1e-4)\n",
    "optimizer.load_state_dict(checkpoint['optimizer_state_dict'])\n",
    "criteria = nn.BCEWithLogitsLoss()"
   ],
   "metadata": {
    "collapsed": false
   }
  },
  {
   "cell_type": "markdown",
   "source": [
    "Define another data transformations for the dataset."
   ],
   "metadata": {
    "collapsed": false
   }
  },
  {
   "cell_type": "code",
   "execution_count": 33,
   "outputs": [],
   "source": [
    "augmented_transforms = transforms.Compose(\n",
    "    [\n",
    "        transforms.RandomHorizontalFlip(p=0.4),\n",
    "        transforms.RandomVerticalFlip(p=0.4),\n",
    "        transforms.RandomRotation(degrees=45),\n",
    "        transforms.CenterCrop(CENTER_SIZE),\n",
    "        transforms.ToTensor(),\n",
    "        transforms.Normalize(mean=[0.485, 0.456, 0.406],\n",
    "                             std=[0.229, 0.224, 0.225])\n",
    "\n",
    "    ]\n",
    ")"
   ],
   "metadata": {
    "collapsed": false
   }
  },
  {
   "cell_type": "code",
   "execution_count": 34,
   "outputs": [
    {
     "name": "stdout",
     "output_type": "stream",
     "text": [
      "Converting images to tensors...\n"
     ]
    },
    {
     "data": {
      "text/plain": "  0%|          | 0/178234 [00:00<?, ?it/s]",
      "application/vnd.jupyter.widget-view+json": {
       "version_major": 2,
       "version_minor": 0,
       "model_id": "c8e9011541c74553990d3d184c3a9025"
      }
     },
     "metadata": {},
     "output_type": "display_data"
    },
    {
     "name": "stdout",
     "output_type": "stream",
     "text": [
      "The dataset is ready for use.\n"
     ]
    }
   ],
   "source": [
    "dataset = HistopathologicCancerDS(balanced_train_df, transform=augmented_transforms)"
   ],
   "metadata": {
    "collapsed": false
   }
  },
  {
   "cell_type": "code",
   "execution_count": 35,
   "outputs": [
    {
     "name": "stderr",
     "output_type": "stream",
     "text": [
      "Clipping input data to the valid range for imshow with RGB data ([0..1] for floats or [0..255] for integers).\n"
     ]
    },
    {
     "name": "stdout",
     "output_type": "stream",
     "text": [
      "label: 0\n"
     ]
    },
    {
     "data": {
      "text/plain": "<Figure size 640x480 with 1 Axes>",
      "image/png": "[encoded data removed]"
     },
     "metadata": {},
     "output_type": "display_data"
    }
   ],
   "source": [
    "random_sample = dataset[np.random.randint(0, len(dataset))]\n",
    "print(f\"label: {random_sample[1]}\")\n",
    "image2plot(random_sample[0])"
   ],
   "metadata": {
    "collapsed": false
   }
  },
  {
   "cell_type": "code",
   "execution_count": 36,
   "outputs": [],
   "source": [
    "ds_len = len(dataset)\n",
    "train_size = int(0.9 * ds_len)\n",
    "validation_size = ds_len - train_size\n",
    "train_ds, validation_ds = random_split(dataset, [train_size, validation_size])\n",
    "train_dl = DataLoader(train_ds, batch_size=BATCH_SIZE, shuffle=True)\n",
    "validation_dl = DataLoader(validation_ds, batch_size=VALIDATION_BATCH_SIZE, shuffle=True)\n",
    "dataloaders = {\n",
    "    'train': train_dl,\n",
    "    'validation': validation_dl\n",
    "}\n",
    "\n",
    "stats = {\n",
    "    'train': {\n",
    "        'loss': [],\n",
    "        'accuracy': []\n",
    "    },\n",
    "    'validation': {\n",
    "        'loss': [],\n",
    "        'accuracy': []\n",
    "    }\n",
    "}"
   ],
   "metadata": {
    "collapsed": false
   }
  },
  {
   "cell_type": "code",
   "execution_count": null,
   "outputs": [],
   "source": [
    "train(model, dataloaders, criteria, optimizer, epochs=50, stats=stats, device=device)"
   ],
   "metadata": {
    "collapsed": false,
    "pycharm": {
     "is_executing": true
    }
   }
  },
  {
   "cell_type": "code",
   "execution_count": 41,
   "outputs": [
    {
     "data": {
      "text/plain": "<Figure size 640x480 with 2 Axes>",
      "image/png": "[encoded data removed]"
     },
     "metadata": {},
     "output_type": "display_data"
    }
   ],
   "source": [
    "fig, (ax1, ax2) = plt.subplots(nrows=1, ncols=2)\n",
    "ax1.plot(stats[\"train\"][\"loss\"], label='train')\n",
    "ax1.plot(stats['validation']['loss'], label='validation')\n",
    "ax2.plot(stats['train']['accuracy'], label='train')\n",
    "ax2.plot(stats['validation']['accuracy'], label='validation')\n",
    "\n",
    "ax1.set_title('Loss')\n",
    "ax2.set_title('Accuracy')\n",
    "plt.legend()\n",
    "plt.show()\n"
   ],
   "metadata": {
    "collapsed": false
   }
  },
  {
   "cell_type": "code",
   "execution_count": 42,
   "outputs": [],
   "source": [
    "torch.save(\n",
    "    {\n",
    "        'epochs': 50,\n",
    "        'model_state_dict': model.state_dict(),\n",
    "        'optimizer_state_dict': optimizer.state_dict()\n",
    "    },\n",
    "    os.path.join(\"weights\", f'{model.__class__.__name__}1.pt')\n",
    ")"
   ],
   "metadata": {
    "collapsed": false
   }
  },
  {
   "cell_type": "code",
   "execution_count": 44,
   "outputs": [
    {
     "data": {
      "text/plain": "<Figure size 640x480 with 3 Axes>",
      "image/png": "[encoded data removed]"
     },
     "metadata": {},
     "output_type": "display_data"
    }
   ],
   "source": [
    "old_stats = fetch_json('stats.json')['CD2Conv']\n",
    "fig, (ax1, ax2, ax3) = plt.subplots(nrows=1, ncols=3)\n",
    "ax1.plot(stats[\"train\"][\"loss\"], label='new')\n",
    "ax1.plot(old_stats['train']['loss'], label='old')\n",
    "ax2.plot(stats['train']['accuracy'], label='new')\n",
    "ax2.plot(old_stats['train']['accuracy'], label='old')\n",
    "ax3.plot(stats['validation']['accuracy'], label='new')\n",
    "ax3.plot(old_stats['validation']['accuracy'], label='new')\n",
    "\n",
    "ax1.set_title('Train Loss')\n",
    "ax2.set_title('Train Accuracy')\n",
    "ax3.set_title('Validation Accuracy')\n",
    "plt.legend()\n",
    "plt.show()\n"
   ],
   "metadata": {
    "collapsed": false
   }
  },
  {
   "cell_type": "code",
   "execution_count": 75,
   "outputs": [
    {
     "name": "stdout",
     "output_type": "stream",
     "text": [
      "result size: (22, 22)\n"
     ]
    },
    {
     "data": {
      "text/plain": "<All keys matched successfully>"
     },
     "execution_count": 75,
     "metadata": {},
     "output_type": "execute_result"
    }
   ],
   "source": [
    "checkpoint = torch.load(os.path.join(\"weights\", \"CD2Conv1.pt\"))\n",
    "model = CD2Conv().to(device)\n",
    "model.load_state_dict(checkpoint['model_state_dict'])"
   ],
   "metadata": {
    "collapsed": false
   }
  },
  {
   "cell_type": "code",
   "execution_count": 78,
   "outputs": [
    {
     "data": {
      "text/plain": "Batches:   0%|          | 0/2507 [00:00<?, ?it/s]",
      "application/vnd.jupyter.widget-view+json": {
       "version_major": 2,
       "version_minor": 0,
       "model_id": "4679d63c885f42d6b5ff29028203ee6a"
      }
     },
     "metadata": {},
     "output_type": "display_data"
    },
    {
     "name": "stdout",
     "output_type": "stream",
     "text": [
      "torch.Size([64, 3, 32, 32])\n",
      "flatten: torch.Size([64, 30976])\n"
     ]
    }
   ],
   "source": [
    "for i, data in enumerate(tqdm(train_dl, desc='Batches')):\n",
    "    x, y = data\n",
    "    x = x.half().to(device)\n",
    "    print(x.shape)\n",
    "    y = y.to(device).float()\n",
    "\n",
    "    sample_size = x.size(0)\n",
    "    with torch.no_grad():\n",
    "        with autocast():\n",
    "            output = model(x).view(len(x))\n",
    "        output = torch.sigmoid(output)\n",
    "        output = (output >= 0.5) * 1\n",
    "    break"
   ],
   "metadata": {
    "collapsed": false
   }
  },
  {
   "cell_type": "code",
   "execution_count": null,
   "outputs": [],
   "source": [
    "submission_list = []\n",
    "for filename in tqdm(os.listdir('test')):\n",
    "    with Image.open(os.path.join('test', filename)) as img:\n",
    "        print(type(img))\n",
    "        tensor = ds_transformer(img).half().to(device).reshape(1, 3, 32, 32)\n",
    "        print(type(tensor))\n",
    "        print(tensor.shape)\n",
    "    with autocast():\n",
    "        with torch.no_grad():\n",
    "            output = model(tensor).reshape(-1)\n",
    "        output = torch.sigmoid(output)\n",
    "        label = (output >= 0.5) * 1\n",
    "    submission_list.append([filename[:-4], label])"
   ],
   "metadata": {
    "collapsed": false,
    "pycharm": {
     "is_executing": true
    }
   }
  },
  {
   "cell_type": "code",
   "execution_count": 87,
   "outputs": [],
   "source": [
    "submission_list = [(i[0], int(i[1][0])) for i in submission_list]"
   ],
   "metadata": {
    "collapsed": false
   }
  },
  {
   "cell_type": "code",
   "execution_count": 100,
   "outputs": [],
   "source": [
    "submission_pd = pd.DataFrame(submission_list, columns=['id', 'label'])\n",
    "submission_pd = submission_pd.set_index('id')"
   ],
   "metadata": {
    "collapsed": false
   }
  },
  {
   "cell_type": "code",
   "execution_count": 101,
   "outputs": [],
   "source": [
    "submission_pd.to_csv('submission.csv')"
   ],
   "metadata": {
    "collapsed": false
   }
  }
 ],
 "metadata": {
  "kernelspec": {
   "display_name": "Python 3 (ipykernel)",
   "language": "python",
   "name": "python3"
  },
  "language_info": {
   "codemirror_mode": {
    "name": "ipython",
    "version": 3
   },
   "file_extension": ".py",
   "mimetype": "text/x-python",
   "name": "python",
   "nbconvert_exporter": "python",
   "pygments_lexer": "ipython3",
   "version": "3.9.13"
  }
 },
 "nbformat": 4,
 "nbformat_minor": 4
}
